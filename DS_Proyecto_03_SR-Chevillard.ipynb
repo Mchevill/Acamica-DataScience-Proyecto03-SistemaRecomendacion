{
 "cells": [
  {
   "cell_type": "markdown",
   "metadata": {
    "id": "gzJLet17WTzh"
   },
   "source": [
    "# Proyecto 03 - Sistemas de Recomendación\n",
    "\n",
    "## Dataset: STEAM\n",
    "\n",
    "**Recuerda descargar el dataset de [aquí](https://github.com/kang205/SASRec). Son dos archivos, uno de calificaciones y otro de información sobre los juegos.**\n",
    "\n",
    "En este notebook te dejamos unas celdas para que puedas comenzar a trabajar con este dataset. Sin embargo, **deberás** modificarlas para hacer un mejor manejo de datos. Algunas cosas a las que deberás prestar atención (tal vez no a todas):\n",
    "1. Tipos de datos: elige tipos de datos apropiados para cada columna.\n",
    "2. Descartar columnas poco informativas.\n",
    "3. Guardar en memoria datasets preprocesados para no tener que repetir código que tarde en correr.\n",
    "\n",
    "### Exploración de datos\n",
    "\n",
    "Dedícale un buen tiempo a hacer un Análisis Exploratorio de Datos. Elige preguntas que creas que puedas responder con este dataset. Por ejemplo, ¿cuáles son los juegos más populares? ¿Y los menos populares?\n",
    "\n",
    "### Filtro Colaborativo\n",
    "\n",
    "Deberás implementar un sistema de recomendación colaborativo para este dataset. Ten en cuenta:\n",
    "\n",
    "1. Haz todas las transformaciones de datos que consideres necesarias. Justifica.\n",
    "1. Evalúa de forma apropiada sus resultados. Justifica la métrica elegida.\n",
    "1. Elige un modelo benchmark y compara tus resultados con este modelo.\n",
    "1. Optimiza los hiperparámetros de tu modelo.\n",
    "\n",
    "Puedes implementar un filtro colaborativo a partir de la similitud coseno o índice de Jaccard. ¿Puedes utilizar los métodos de la librería Surprise? Si no es así, busca implementaciones (por ejemplo, nuevas librerías) que sean apropiadas.\n",
    "\n",
    "Para comenzar a trabajar, puedes asumir que cada entrada es un enlace entre una persona usuaria y un item, **independientemente** de si la crítica es buena o mala. \n",
    "\n",
    "### Para pensar, investigar y, opcionalmente, implementar\n",
    "1. ¿Cómo harías para ponerle un valor a la calificación?\n",
    "1. ¿Cómo harías para agregar contenido? Por ejemplo, cuentas con el género, precio, fecha de lanzamiento y más información de los juegos.\n",
    "1. ¿Hay algo que te gustaría investigar o probar?\n",
    "\n",
    "### **¡Tómate tiempo para investigar y leer mucho!**\n",
    "***\n",
    "***\n",
    "### 0. descargamos la librerías que utilizaremos ###\n"
   ]
  },
  {
   "cell_type": "code",
   "execution_count": 1,
   "metadata": {
    "id": "lWZhtUxEWTzj"
   },
   "outputs": [],
   "source": [
    "import gzip\n",
    "import ast\n",
    "import pandas as pd\n",
    "import numpy as np\n",
    "import matplotlib.pyplot as plt\n",
    "import seaborn as sns\n",
    "sns.set(palette=\"Blues_d\")\n",
    "\n",
    "\n",
    "def parse(path):\n",
    "    g = gzip.open(path, 'r')\n",
    "    for l in g:\n",
    "        yield eval(l)"
   ]
  },
  {
   "cell_type": "markdown",
   "metadata": {
    "id": "BmEM25k4WTzw"
   },
   "source": [
    "## **Reviews** ##\n",
    "\n",
    "Se descargan los datos de las reviews y se los pasara a un archivo .csv debido a que el proceso de descarga demora un tiempo considerable. "
   ]
  },
  {
   "cell_type": "code",
   "execution_count": 2,
   "metadata": {
    "id": "abAXItn1WTz0"
   },
   "outputs": [],
   "source": [
    "# %%time\n",
    "# contador = 0\n",
    "# data_reviews = []\n",
    "# # Vamos a guardar una de cada 10 reviews para no llenar la memoria RAM. Si pones n = 3, \n",
    "# # abrira uno de cada tres, y asi.\n",
    "# n = 1\n",
    "# for l in parse('steam_reviews.json.gz'):\n",
    "#     if contador%n == 0:\n",
    "#         data_reviews.append(l)\n",
    "#     else:\n",
    "#         pass\n",
    "#     contador += 1\n",
    "# data_reviews = pd.DataFrame(data_reviews)\n",
    "\n",
    "# data_reviews.to_csv('data_reviews.csv',index=False)\n",
    "\n",
    "\n",
    "data_reviews = pd.read_csv('data_reviews.csv')"
   ]
  },
  {
   "cell_type": "code",
   "execution_count": 3,
   "metadata": {
    "id": "7GovAZQBWTz8"
   },
   "outputs": [
    {
     "name": "stdout",
     "output_type": "stream",
     "text": [
      "Nº de filas: 7793069\n",
      "Nº de columnas: 12\n",
      "\n",
      "\n",
      "Nombre de las columnas: \n",
      "username\n",
      "hours\n",
      "products\n",
      "product_id\n",
      "page_order\n",
      "date\n",
      "text\n",
      "early_access\n",
      "page\n",
      "found_funny\n",
      "compensation\n",
      "user_id\n",
      "\n",
      "\n"
     ]
    }
   ],
   "source": [
    "print(f'Nº de filas: {data_reviews.shape[0]}')\n",
    "print(f'Nº de columnas: {data_reviews.shape[1]}')\n",
    "print('\\n')\n",
    "\n",
    "print('Nombre de las columnas: ')\n",
    "for col in data_reviews.columns:\n",
    "    print(col)\n",
    "\n",
    "print('\\n')\n"
   ]
  },
  {
   "cell_type": "markdown",
   "metadata": {
    "id": "04ed3teRWT0T"
   },
   "source": [
    "## **Games** ##\n",
    "\n",
    "Se descargarán los datos de los juegos y se lo pasara a un archivo .csv para facilitar el posterior acceso."
   ]
  },
  {
   "cell_type": "code",
   "execution_count": 4,
   "metadata": {
    "id": "8wRb24Y5WT0U"
   },
   "outputs": [],
   "source": [
    "# %%time\n",
    "# data_games = []\n",
    "# for l in parse('steam_games.json.gz'):\n",
    "#     data_games.append(l)\n",
    "# data_games = pd.DataFrame(data_games)\n",
    "# data_games.to_csv('data_games.csv',index=False)\n",
    "\n",
    "data_games = pd.read_csv('data_games.csv')"
   ]
  },
  {
   "cell_type": "code",
   "execution_count": 5,
   "metadata": {},
   "outputs": [
    {
     "name": "stdout",
     "output_type": "stream",
     "text": [
      "Nº de filas: 32135\n",
      "Nº de columnas: 16\n",
      "\n",
      "\n",
      "Nombre de las columnas: \n",
      "publisher\n",
      "genres\n",
      "app_name\n",
      "title\n",
      "url\n",
      "release_date\n",
      "tags\n",
      "discount_price\n",
      "reviews_url\n",
      "specs\n",
      "price\n",
      "early_access\n",
      "id\n",
      "developer\n",
      "sentiment\n",
      "metascore\n",
      "\n",
      "\n"
     ]
    }
   ],
   "source": [
    "print(f'Nº de filas: {data_games.shape[0]}')\n",
    "print(f'Nº de columnas: {data_games.shape[1]}')\n",
    "print('\\n')\n",
    "\n",
    "print('Nombre de las columnas: ')\n",
    "for col in data_games.columns:\n",
    "    print(col)\n",
    "\n",
    "print('\\n')\n"
   ]
  },
  {
   "cell_type": "markdown",
   "metadata": {},
   "source": [
    "***\n",
    "### 1. Análisis exploratorio ###\n",
    "\n",
    "Para el modelo de recomendación de filtro colaborativo se utilizara únicamente los datos de reviews."
   ]
  },
  {
   "cell_type": "code",
   "execution_count": 6,
   "metadata": {},
   "outputs": [
    {
     "data": {
      "text/html": [
       "<div>\n",
       "<style scoped>\n",
       "    .dataframe tbody tr th:only-of-type {\n",
       "        vertical-align: middle;\n",
       "    }\n",
       "\n",
       "    .dataframe tbody tr th {\n",
       "        vertical-align: top;\n",
       "    }\n",
       "\n",
       "    .dataframe thead th {\n",
       "        text-align: right;\n",
       "    }\n",
       "</style>\n",
       "<table border=\"1\" class=\"dataframe\">\n",
       "  <thead>\n",
       "    <tr style=\"text-align: right;\">\n",
       "      <th></th>\n",
       "      <th>username</th>\n",
       "      <th>hours</th>\n",
       "      <th>products</th>\n",
       "      <th>product_id</th>\n",
       "      <th>page_order</th>\n",
       "      <th>date</th>\n",
       "      <th>text</th>\n",
       "      <th>early_access</th>\n",
       "      <th>page</th>\n",
       "      <th>found_funny</th>\n",
       "      <th>compensation</th>\n",
       "      <th>user_id</th>\n",
       "    </tr>\n",
       "  </thead>\n",
       "  <tbody>\n",
       "    <tr>\n",
       "      <th>0</th>\n",
       "      <td>Chaos Syren</td>\n",
       "      <td>0.1</td>\n",
       "      <td>41.0</td>\n",
       "      <td>725280</td>\n",
       "      <td>0</td>\n",
       "      <td>2017-12-17</td>\n",
       "      <td>This would not be acceptable as an entertainme...</td>\n",
       "      <td>False</td>\n",
       "      <td>1</td>\n",
       "      <td>NaN</td>\n",
       "      <td>NaN</td>\n",
       "      <td>NaN</td>\n",
       "    </tr>\n",
       "    <tr>\n",
       "      <th>1</th>\n",
       "      <td>₮ʜᴇ Wᴀʀᴛᴏɴ</td>\n",
       "      <td>51.1</td>\n",
       "      <td>769.0</td>\n",
       "      <td>328100</td>\n",
       "      <td>0</td>\n",
       "      <td>2017-12-27</td>\n",
       "      <td>looks like a facebook game</td>\n",
       "      <td>False</td>\n",
       "      <td>1</td>\n",
       "      <td>NaN</td>\n",
       "      <td>NaN</td>\n",
       "      <td>NaN</td>\n",
       "    </tr>\n",
       "    <tr>\n",
       "      <th>2</th>\n",
       "      <td>hello?&lt;</td>\n",
       "      <td>14.6</td>\n",
       "      <td>2.0</td>\n",
       "      <td>328100</td>\n",
       "      <td>1</td>\n",
       "      <td>2017-10-16</td>\n",
       "      <td>Better than Minecraft</td>\n",
       "      <td>False</td>\n",
       "      <td>1</td>\n",
       "      <td>2.0</td>\n",
       "      <td>Product received for free</td>\n",
       "      <td>NaN</td>\n",
       "    </tr>\n",
       "    <tr>\n",
       "      <th>3</th>\n",
       "      <td>Cyderine916</td>\n",
       "      <td>5.0</td>\n",
       "      <td>64.0</td>\n",
       "      <td>35140</td>\n",
       "      <td>0</td>\n",
       "      <td>2018-01-04</td>\n",
       "      <td>I love and idolized Batman and this game is Ma...</td>\n",
       "      <td>False</td>\n",
       "      <td>1</td>\n",
       "      <td>NaN</td>\n",
       "      <td>NaN</td>\n",
       "      <td>NaN</td>\n",
       "    </tr>\n",
       "    <tr>\n",
       "      <th>4</th>\n",
       "      <td>DarklyThinking</td>\n",
       "      <td>16.6</td>\n",
       "      <td>577.0</td>\n",
       "      <td>35140</td>\n",
       "      <td>1</td>\n",
       "      <td>2018-01-04</td>\n",
       "      <td>Still worth playing in 2018.\\nProbably my favo...</td>\n",
       "      <td>False</td>\n",
       "      <td>1</td>\n",
       "      <td>NaN</td>\n",
       "      <td>NaN</td>\n",
       "      <td>7.656120e+16</td>\n",
       "    </tr>\n",
       "  </tbody>\n",
       "</table>\n",
       "</div>"
      ],
      "text/plain": [
       "         username  hours  products  product_id  page_order        date  \\\n",
       "0     Chaos Syren    0.1      41.0      725280           0  2017-12-17   \n",
       "1      ₮ʜᴇ Wᴀʀᴛᴏɴ   51.1     769.0      328100           0  2017-12-27   \n",
       "2         hello?<   14.6       2.0      328100           1  2017-10-16   \n",
       "3     Cyderine916    5.0      64.0       35140           0  2018-01-04   \n",
       "4  DarklyThinking   16.6     577.0       35140           1  2018-01-04   \n",
       "\n",
       "                                                text  early_access  page  \\\n",
       "0  This would not be acceptable as an entertainme...         False     1   \n",
       "1                         looks like a facebook game         False     1   \n",
       "2                              Better than Minecraft         False     1   \n",
       "3  I love and idolized Batman and this game is Ma...         False     1   \n",
       "4  Still worth playing in 2018.\\nProbably my favo...         False     1   \n",
       "\n",
       "   found_funny               compensation       user_id  \n",
       "0          NaN                        NaN           NaN  \n",
       "1          NaN                        NaN           NaN  \n",
       "2          2.0  Product received for free           NaN  \n",
       "3          NaN                        NaN           NaN  \n",
       "4          NaN                        NaN  7.656120e+16  "
      ]
     },
     "execution_count": 6,
     "metadata": {},
     "output_type": "execute_result"
    }
   ],
   "source": [
    "data_reviews.head()"
   ]
  },
  {
   "cell_type": "code",
   "execution_count": 7,
   "metadata": {},
   "outputs": [
    {
     "data": {
      "text/plain": [
       "username            208\n",
       "hours             26537\n",
       "products          14961\n",
       "product_id            0\n",
       "page_order            0\n",
       "date                  0\n",
       "text              17972\n",
       "early_access          0\n",
       "page                  0\n",
       "found_funny     6592313\n",
       "compensation    7647446\n",
       "user_id         4616846\n",
       "dtype: int64"
      ]
     },
     "execution_count": 7,
     "metadata": {},
     "output_type": "execute_result"
    }
   ],
   "source": [
    "data_reviews.isna().sum()"
   ]
  },
  {
   "cell_type": "markdown",
   "metadata": {},
   "source": [
    "Se descartaran las columnas `products`,`page_order`,`date`, `early_acces`,`page`,`found_funny` y `compensation` debido a que no contienen información relevante. `user_id` debido a que hay tantos valores vacíos se descartara y se utilizara `username` para referenciar a los usuarios y `text` si bien es la columna que contiene la información sobre la opinión del usuario hacia el juego pero debido a que es texto supera el alcance de este proyecto."
   ]
  },
  {
   "cell_type": "code",
   "execution_count": 8,
   "metadata": {},
   "outputs": [],
   "source": [
    "dr = data_reviews[['username','product_id','hours']].copy()"
   ]
  },
  {
   "cell_type": "markdown",
   "metadata": {},
   "source": [
    "Se incorpora el título del juego para visualizar mejor."
   ]
  },
  {
   "cell_type": "code",
   "execution_count": 9,
   "metadata": {},
   "outputs": [],
   "source": [
    "data_games.rename(columns={'id':'product_id'},inplace=True)\n",
    "dr = dr.merge(data_games[['product_id','title']],on='product_id')"
   ]
  },
  {
   "cell_type": "code",
   "execution_count": 10,
   "metadata": {},
   "outputs": [
    {
     "data": {
      "text/plain": [
       "username        208\n",
       "product_id        0\n",
       "hours         26537\n",
       "title             0\n",
       "dtype: int64"
      ]
     },
     "execution_count": 10,
     "metadata": {},
     "output_type": "execute_result"
    }
   ],
   "source": [
    "dr.isna().sum()"
   ]
  },
  {
   "cell_type": "markdown",
   "metadata": {},
   "source": [
    "Los datos vacíos de `username` y `hours` serán descartados, debido a que son un muy pequeño porcentaje a la totalidad de los datos."
   ]
  },
  {
   "cell_type": "code",
   "execution_count": 11,
   "metadata": {},
   "outputs": [
    {
     "data": {
      "text/html": [
       "<div>\n",
       "<style scoped>\n",
       "    .dataframe tbody tr th:only-of-type {\n",
       "        vertical-align: middle;\n",
       "    }\n",
       "\n",
       "    .dataframe tbody tr th {\n",
       "        vertical-align: top;\n",
       "    }\n",
       "\n",
       "    .dataframe thead th {\n",
       "        text-align: right;\n",
       "    }\n",
       "</style>\n",
       "<table border=\"1\" class=\"dataframe\">\n",
       "  <thead>\n",
       "    <tr style=\"text-align: right;\">\n",
       "      <th></th>\n",
       "      <th>username</th>\n",
       "      <th>product_id</th>\n",
       "      <th>hours</th>\n",
       "      <th>title</th>\n",
       "    </tr>\n",
       "  </thead>\n",
       "  <tbody>\n",
       "    <tr>\n",
       "      <th>0</th>\n",
       "      <td>Chaos Syren</td>\n",
       "      <td>725280</td>\n",
       "      <td>0.1</td>\n",
       "      <td>Psi Project</td>\n",
       "    </tr>\n",
       "    <tr>\n",
       "      <th>1</th>\n",
       "      <td>Teef 🐏</td>\n",
       "      <td>725280</td>\n",
       "      <td>0.9</td>\n",
       "      <td>Psi Project</td>\n",
       "    </tr>\n",
       "    <tr>\n",
       "      <th>2</th>\n",
       "      <td>nd</td>\n",
       "      <td>725280</td>\n",
       "      <td>1.0</td>\n",
       "      <td>Psi Project</td>\n",
       "    </tr>\n",
       "    <tr>\n",
       "      <th>3</th>\n",
       "      <td>Sneaky_Panda</td>\n",
       "      <td>725280</td>\n",
       "      <td>0.6</td>\n",
       "      <td>Psi Project</td>\n",
       "    </tr>\n",
       "    <tr>\n",
       "      <th>4</th>\n",
       "      <td>wasp99rock</td>\n",
       "      <td>725280</td>\n",
       "      <td>0.3</td>\n",
       "      <td>Psi Project</td>\n",
       "    </tr>\n",
       "    <tr>\n",
       "      <th>...</th>\n",
       "      <td>...</td>\n",
       "      <td>...</td>\n",
       "      <td>...</td>\n",
       "      <td>...</td>\n",
       "    </tr>\n",
       "    <tr>\n",
       "      <th>7772790</th>\n",
       "      <td>Joish</td>\n",
       "      <td>518790</td>\n",
       "      <td>13.9</td>\n",
       "      <td>theHunter: Call of the Wild™</td>\n",
       "    </tr>\n",
       "    <tr>\n",
       "      <th>7772791</th>\n",
       "      <td>Proxwian</td>\n",
       "      <td>518790</td>\n",
       "      <td>44.2</td>\n",
       "      <td>theHunter: Call of the Wild™</td>\n",
       "    </tr>\n",
       "    <tr>\n",
       "      <th>7772792</th>\n",
       "      <td>XsurbanatorX</td>\n",
       "      <td>518790</td>\n",
       "      <td>0.2</td>\n",
       "      <td>theHunter: Call of the Wild™</td>\n",
       "    </tr>\n",
       "    <tr>\n",
       "      <th>7772793</th>\n",
       "      <td>Proxwian</td>\n",
       "      <td>518790</td>\n",
       "      <td>44.2</td>\n",
       "      <td>theHunter: Call of the Wild™</td>\n",
       "    </tr>\n",
       "    <tr>\n",
       "      <th>7772794</th>\n",
       "      <td>XsurbanatorX</td>\n",
       "      <td>518790</td>\n",
       "      <td>0.2</td>\n",
       "      <td>theHunter: Call of the Wild™</td>\n",
       "    </tr>\n",
       "  </tbody>\n",
       "</table>\n",
       "<p>7772795 rows × 4 columns</p>\n",
       "</div>"
      ],
      "text/plain": [
       "             username  product_id  hours                         title\n",
       "0         Chaos Syren      725280    0.1                   Psi Project\n",
       "1              Teef 🐏      725280    0.9                   Psi Project\n",
       "2                  nd      725280    1.0                   Psi Project\n",
       "3        Sneaky_Panda      725280    0.6                   Psi Project\n",
       "4          wasp99rock      725280    0.3                   Psi Project\n",
       "...               ...         ...    ...                           ...\n",
       "7772790         Joish      518790   13.9  theHunter: Call of the Wild™\n",
       "7772791      Proxwian      518790   44.2  theHunter: Call of the Wild™\n",
       "7772792  XsurbanatorX      518790    0.2  theHunter: Call of the Wild™\n",
       "7772793      Proxwian      518790   44.2  theHunter: Call of the Wild™\n",
       "7772794  XsurbanatorX      518790    0.2  theHunter: Call of the Wild™\n",
       "\n",
       "[7772795 rows x 4 columns]"
      ]
     },
     "execution_count": 11,
     "metadata": {},
     "output_type": "execute_result"
    }
   ],
   "source": [
    "dr.dropna(inplace=True)\n",
    "dr.reset_index(drop=True)"
   ]
  },
  {
   "cell_type": "markdown",
   "metadata": {},
   "source": [
    "Se descartarán los duplicados, en el caso de que haya diferencia en `hours` se mantendrá el mayor valor."
   ]
  },
  {
   "cell_type": "code",
   "execution_count": 12,
   "metadata": {},
   "outputs": [
    {
     "data": {
      "text/html": [
       "<div>\n",
       "<style scoped>\n",
       "    .dataframe tbody tr th:only-of-type {\n",
       "        vertical-align: middle;\n",
       "    }\n",
       "\n",
       "    .dataframe tbody tr th {\n",
       "        vertical-align: top;\n",
       "    }\n",
       "\n",
       "    .dataframe thead th {\n",
       "        text-align: right;\n",
       "    }\n",
       "</style>\n",
       "<table border=\"1\" class=\"dataframe\">\n",
       "  <thead>\n",
       "    <tr style=\"text-align: right;\">\n",
       "      <th></th>\n",
       "      <th>username</th>\n",
       "      <th>product_id</th>\n",
       "      <th>hours</th>\n",
       "      <th>title</th>\n",
       "    </tr>\n",
       "  </thead>\n",
       "  <tbody>\n",
       "    <tr>\n",
       "      <th>0</th>\n",
       "      <td>󰀗THE0ERROR󰀗</td>\n",
       "      <td>322330</td>\n",
       "      <td>99.0</td>\n",
       "      <td>Don't Starve Together</td>\n",
       "    </tr>\n",
       "    <tr>\n",
       "      <th>1</th>\n",
       "      <td>󰀗THE0ERROR󰀗</td>\n",
       "      <td>204300</td>\n",
       "      <td>138.1</td>\n",
       "      <td>Awesomenauts - the 2D moba</td>\n",
       "    </tr>\n",
       "    <tr>\n",
       "      <th>2</th>\n",
       "      <td>󰀗S-Rabbit󰀗</td>\n",
       "      <td>322330</td>\n",
       "      <td>116.0</td>\n",
       "      <td>Don't Starve Together</td>\n",
       "    </tr>\n",
       "    <tr>\n",
       "      <th>3</th>\n",
       "      <td>󰀗 Lolicage</td>\n",
       "      <td>244630</td>\n",
       "      <td>7.5</td>\n",
       "      <td>NEOTOKYO</td>\n",
       "    </tr>\n",
       "    <tr>\n",
       "      <th>4</th>\n",
       "      <td>󰀖Mr.Tarunio</td>\n",
       "      <td>391540</td>\n",
       "      <td>22.1</td>\n",
       "      <td>Undertale</td>\n",
       "    </tr>\n",
       "    <tr>\n",
       "      <th>...</th>\n",
       "      <td>...</td>\n",
       "      <td>...</td>\n",
       "      <td>...</td>\n",
       "      <td>...</td>\n",
       "    </tr>\n",
       "    <tr>\n",
       "      <th>6863837</th>\n",
       "      <td>!</td>\n",
       "      <td>386360</td>\n",
       "      <td>6.5</td>\n",
       "      <td>SMITE®</td>\n",
       "    </tr>\n",
       "    <tr>\n",
       "      <th>6863838</th>\n",
       "      <td>!</td>\n",
       "      <td>377160</td>\n",
       "      <td>123.3</td>\n",
       "      <td>Fallout 4</td>\n",
       "    </tr>\n",
       "    <tr>\n",
       "      <th>6863839</th>\n",
       "      <td>!</td>\n",
       "      <td>304240</td>\n",
       "      <td>42.7</td>\n",
       "      <td>Resident Evil / biohazard HD REMASTER</td>\n",
       "    </tr>\n",
       "    <tr>\n",
       "      <th>6863840</th>\n",
       "      <td>!</td>\n",
       "      <td>227940</td>\n",
       "      <td>20.9</td>\n",
       "      <td>Heroes &amp;amp; Generals</td>\n",
       "    </tr>\n",
       "    <tr>\n",
       "      <th>6863841</th>\n",
       "      <td>!</td>\n",
       "      <td>108600</td>\n",
       "      <td>13.6</td>\n",
       "      <td>Project Zomboid</td>\n",
       "    </tr>\n",
       "  </tbody>\n",
       "</table>\n",
       "<p>6863842 rows × 4 columns</p>\n",
       "</div>"
      ],
      "text/plain": [
       "            username  product_id  hours                                  title\n",
       "0        󰀗THE0ERROR󰀗      322330   99.0                  Don't Starve Together\n",
       "1        󰀗THE0ERROR󰀗      204300  138.1             Awesomenauts - the 2D moba\n",
       "2         󰀗S-Rabbit󰀗      322330  116.0                  Don't Starve Together\n",
       "3         󰀗 Lolicage      244630    7.5                               NEOTOKYO\n",
       "4        󰀖Mr.Tarunio      391540   22.1                              Undertale\n",
       "...              ...         ...    ...                                    ...\n",
       "6863837            !      386360    6.5                                 SMITE®\n",
       "6863838            !      377160  123.3                              Fallout 4\n",
       "6863839            !      304240   42.7  Resident Evil / biohazard HD REMASTER\n",
       "6863840            !      227940   20.9                  Heroes &amp; Generals\n",
       "6863841            !      108600   13.6                        Project Zomboid\n",
       "\n",
       "[6863842 rows x 4 columns]"
      ]
     },
     "execution_count": 12,
     "metadata": {},
     "output_type": "execute_result"
    }
   ],
   "source": [
    "dr.sort_values(by=['username','product_id','hours'],ascending=False,inplace=True)\n",
    "dr.drop_duplicates(subset=['username','product_id'],inplace=True)\n",
    "dr.reset_index(drop=True)"
   ]
  },
  {
   "cell_type": "markdown",
   "metadata": {},
   "source": [
    "* #### username ####"
   ]
  },
  {
   "cell_type": "code",
   "execution_count": 13,
   "metadata": {},
   "outputs": [
    {
     "name": "stdout",
     "output_type": "stream",
     "text": [
      "Usuarios con mayor cantidad de juegos\n",
      "                 username  count\n",
      "1342846       Saint Aaron   1236\n",
      "856805           Kodyd194   1103\n",
      "1660152  VahidSlayerOfAll    885\n",
      "91307                Alex    869\n",
      "1104270              Nick    862\n",
      "302615              Chris    805\n",
      "1609864               Tom    805\n",
      "1344613            Salarn    774\n",
      "19607                  ..    735\n",
      "1353495           Sarkoth    730\n",
      "1838183              alel    730\n",
      "2174400        mark | dj.    718\n",
      "988487               Matt    703\n",
      "377947                Dan    695\n",
      "1336801     STEVEN AGEVER    662\n",
      "1017012              Mike    645\n",
      "753661               Jack    643\n",
      "26895                 123    632\n",
      "1346613               Sam    631\n",
      "1178700    Paradise Decay    631\n"
     ]
    }
   ],
   "source": [
    "user = dr['product_id'].groupby(dr['username']).agg('count').reset_index()\n",
    "user.sort_values(ascending=False,inplace=True,by='product_id')\n",
    "user.rename(columns={'product_id':'count'},inplace=True)\n",
    "print('Usuarios con mayor cantidad de juegos')\n",
    "print(user.head(20))\n"
   ]
  },
  {
   "cell_type": "code",
   "execution_count": 14,
   "metadata": {},
   "outputs": [
    {
     "data": {
      "image/png": "[encoded data removed]",
      "text/plain": [
       "<Figure size 720x360 with 1 Axes>"
      ]
     },
     "metadata": {},
     "output_type": "display_data"
    }
   ],
   "source": [
    "fig = plt.figure(figsize = (10,5))\n",
    "sns.distplot(user['count'][user['count']<30],kde=False,bins=30)\n",
    "plt.xlabel(\"número de usuarios\",fontsize=16)\n",
    "plt.ylabel(\"cantidad de juegos\",fontsize=16)\n",
    "plt.title('Distribucion juegos por usuarios (Acotado)',fontsize=20)\n",
    "\n",
    "plt.show()"
   ]
  },
  {
   "cell_type": "markdown",
   "metadata": {},
   "source": [
    "Como se observa en el gráfico la gran mayoría de los usuarios tienen menos de 5 juegos. Esto puede ser por distintas razones, desde usuarios que solo buscan juegos que únicamente están en la plataforma hasta personas que simplemente quisieron darle una oportunidad a utilizar la plataforma, pero no les intereso. Por esta razón se hace la pregunta ¿Cuantos juegos es necesario que tenga el usuario para que sea relevante en el modelo de recomendación?\n",
    "\n",
    "* #### product_id ####"
   ]
  },
  {
   "cell_type": "code",
   "execution_count": 15,
   "metadata": {},
   "outputs": [
    {
     "name": "stdout",
     "output_type": "stream",
     "text": [
      "¿Cuales son los juegos mas populares?\n",
      "                            title   count\n",
      "19                Team Fortress 2  121324\n",
      "2212                         Rust   68031\n",
      "1003                Borderlands 2   50574\n",
      "6118                    Fallout 4   48041\n",
      "3458                    Robocraft   45612\n",
      "2684           Grand Theft Auto V   41843\n",
      "6657                    Undertale   40306\n",
      "1655                         DayZ   39697\n",
      "1792                     Warframe   38858\n",
      "22                       Portal 2   38845\n",
      "1763        Heroes &amp; Generals   35823\n",
      "3998  Life is Strange - Episode 1   35115\n",
      "140                   Garry's Mod   33660\n",
      "4900        ARK: Survival Evolved   30558\n",
      "8040                         H1Z1   30498\n",
      "1515                    Starbound   30056\n",
      "1243                       Arma 3   28868\n",
      "8365                    Paladins®   28648\n",
      "255   Sid Meier's Civilization® V   25921\n",
      "994    Mount &amp; Blade: Warband   25654\n"
     ]
    }
   ],
   "source": [
    "games = dr['username'].groupby(dr['product_id']).agg('count').reset_index()\n",
    "games = games.merge(data_games[['product_id','title']],on='product_id')\n",
    "games.sort_values(ascending=False,inplace=True,by='username')\n",
    "games.drop(columns='product_id',axis=1,inplace=True)\n",
    "games = games[['title','username']]\n",
    "games.rename(columns={'username':'count'},inplace=True)\n",
    "print('¿Cuales son los juegos mas populares?')\n",
    "print(games.head(20))"
   ]
  },
  {
   "cell_type": "code",
   "execution_count": 16,
   "metadata": {},
   "outputs": [
    {
     "name": "stdout",
     "output_type": "stream",
     "text": [
      "¿Cuales son los juegos menos populares?\n",
      "                                                   title  count\n",
      "12749                        Bill Hicks: One Night Stand      1\n",
      "12750                                  Cornflower Corbin      1\n",
      "14768                                        Banana Town      1\n",
      "12757            FlatOut 4: Total Insanity Workshop Tool      1\n",
      "2147                                          Tetrapulse      1\n",
      "10037         Robotpencil Presents: Female Portrait Demo      1\n",
      "14079                                              80.08      1\n",
      "14779                                        Space Chaos      1\n",
      "12782                                       Lost Village      1\n",
      "10015                                            Unfazed      1\n",
      "10009                                              Nerve      1\n",
      "12776                                             Aokana      1\n",
      "10006                                 Glengarry GlenRoss      1\n",
      "12779                                           Cerberus      1\n",
      "9968                                 Empire of Assassins      1\n",
      "14788                               New World: The Tupis      1\n",
      "12781                        Hitorinoshita - The Outcast      1\n",
      "14790  Dark Romance: Vampire in Love Collector's Edition      1\n",
      "14070                                     Cat vs. Corgis      1\n",
      "15390           Kalen Chock Presents: 2017 Free Tutorial      1\n"
     ]
    }
   ],
   "source": [
    "print('¿Cuales son los juegos menos populares?')\n",
    "print(games.tail(20))"
   ]
  },
  {
   "cell_type": "code",
   "execution_count": 17,
   "metadata": {},
   "outputs": [
    {
     "data": {
      "image/png": "[encoded data removed]",
      "text/plain": [
       "<Figure size 720x360 with 1 Axes>"
      ]
     },
     "metadata": {},
     "output_type": "display_data"
    }
   ],
   "source": [
    "fig = plt.figure(figsize = (10,5))\n",
    "sns.distplot(games['count'][games['count']<1000],kde=False,bins=50)\n",
    "plt.ylabel(\"Número de juegos\",fontsize=16)\n",
    "plt.xlabel(\"cantidad de usuarios\",fontsize=16)\n",
    "plt.title('Distribucion usuarios por juego (Acotado)',fontsize=20)\n",
    "\n",
    "plt.show()"
   ]
  },
  {
   "cell_type": "markdown",
   "metadata": {},
   "source": [
    "Observando el gráfico la mayoría de los juegos no superan los 200 usuarios. Una pregunta que más adelante en el proyecto se responderá es ¿Cuantos usuarios son necesarios para obtener una tendencia en cuanto al sentimiento del juego?\n",
    "\n",
    "* #### hours ####"
   ]
  },
  {
   "cell_type": "code",
   "execution_count": 18,
   "metadata": {},
   "outputs": [
    {
     "data": {
      "image/png": "[encoded data removed]",
      "text/plain": [
       "<Figure size 1440x360 with 2 Axes>"
      ]
     },
     "metadata": {},
     "output_type": "display_data"
    }
   ],
   "source": [
    "fig = plt.figure(figsize = (10*2,5))\n",
    "\n",
    "plt.subplot(1,2,1)\n",
    "sns.distplot(dr['hours'][dr.hours<100],kde=False,bins=100)\n",
    "plt.ylabel('Horas juadas',fontsize=16)\n",
    "plt.xlabel('Número de usuarios',fontsize=16)\n",
    "plt.title('Distribución horas jugadas (Acotado)',fontsize=20)\n",
    "\n",
    "plt.subplot(1,2,2)\n",
    "sns.boxplot(dr['hours'][dr.hours<100])\n",
    "plt.xlabel('Horas juadas',fontsize=16)\n",
    "plt.title('Distribución horas jugadas (Acotado)',fontsize=20)\n",
    "\n",
    "\n",
    "plt.show()"
   ]
  },
  {
   "cell_type": "markdown",
   "metadata": {},
   "source": [
    "Hay una gran cantidad de usuarios que jugaron menos de 1 hora, que se puede considerar un tiempo suficiente para categorizar al usuario como que jugo el juego. \n",
    "***\n",
    "### 2. Consideraciones para el modelo ###\n",
    "\n",
    "* Se descartarán las reviews con menos de 1hs jugadas, debido a que no se considera un tiempo suficiente para calificar un juego."
   ]
  },
  {
   "cell_type": "code",
   "execution_count": 19,
   "metadata": {},
   "outputs": [
    {
     "data": {
      "text/html": [
       "<div>\n",
       "<style scoped>\n",
       "    .dataframe tbody tr th:only-of-type {\n",
       "        vertical-align: middle;\n",
       "    }\n",
       "\n",
       "    .dataframe tbody tr th {\n",
       "        vertical-align: top;\n",
       "    }\n",
       "\n",
       "    .dataframe thead th {\n",
       "        text-align: right;\n",
       "    }\n",
       "</style>\n",
       "<table border=\"1\" class=\"dataframe\">\n",
       "  <thead>\n",
       "    <tr style=\"text-align: right;\">\n",
       "      <th></th>\n",
       "      <th>username</th>\n",
       "      <th>product_id</th>\n",
       "      <th>hours</th>\n",
       "      <th>title</th>\n",
       "    </tr>\n",
       "  </thead>\n",
       "  <tbody>\n",
       "    <tr>\n",
       "      <th>0</th>\n",
       "      <td>󰀗THE0ERROR󰀗</td>\n",
       "      <td>322330</td>\n",
       "      <td>99.0</td>\n",
       "      <td>Don't Starve Together</td>\n",
       "    </tr>\n",
       "    <tr>\n",
       "      <th>1</th>\n",
       "      <td>󰀗THE0ERROR󰀗</td>\n",
       "      <td>204300</td>\n",
       "      <td>138.1</td>\n",
       "      <td>Awesomenauts - the 2D moba</td>\n",
       "    </tr>\n",
       "    <tr>\n",
       "      <th>2</th>\n",
       "      <td>󰀗S-Rabbit󰀗</td>\n",
       "      <td>322330</td>\n",
       "      <td>116.0</td>\n",
       "      <td>Don't Starve Together</td>\n",
       "    </tr>\n",
       "    <tr>\n",
       "      <th>3</th>\n",
       "      <td>󰀗 Lolicage</td>\n",
       "      <td>244630</td>\n",
       "      <td>7.5</td>\n",
       "      <td>NEOTOKYO</td>\n",
       "    </tr>\n",
       "    <tr>\n",
       "      <th>4</th>\n",
       "      <td>󰀖Mr.Tarunio</td>\n",
       "      <td>391540</td>\n",
       "      <td>22.1</td>\n",
       "      <td>Undertale</td>\n",
       "    </tr>\n",
       "    <tr>\n",
       "      <th>...</th>\n",
       "      <td>...</td>\n",
       "      <td>...</td>\n",
       "      <td>...</td>\n",
       "      <td>...</td>\n",
       "    </tr>\n",
       "    <tr>\n",
       "      <th>6155412</th>\n",
       "      <td>!</td>\n",
       "      <td>386360</td>\n",
       "      <td>6.5</td>\n",
       "      <td>SMITE®</td>\n",
       "    </tr>\n",
       "    <tr>\n",
       "      <th>6155413</th>\n",
       "      <td>!</td>\n",
       "      <td>377160</td>\n",
       "      <td>123.3</td>\n",
       "      <td>Fallout 4</td>\n",
       "    </tr>\n",
       "    <tr>\n",
       "      <th>6155414</th>\n",
       "      <td>!</td>\n",
       "      <td>304240</td>\n",
       "      <td>42.7</td>\n",
       "      <td>Resident Evil / biohazard HD REMASTER</td>\n",
       "    </tr>\n",
       "    <tr>\n",
       "      <th>6155415</th>\n",
       "      <td>!</td>\n",
       "      <td>227940</td>\n",
       "      <td>20.9</td>\n",
       "      <td>Heroes &amp;amp; Generals</td>\n",
       "    </tr>\n",
       "    <tr>\n",
       "      <th>6155416</th>\n",
       "      <td>!</td>\n",
       "      <td>108600</td>\n",
       "      <td>13.6</td>\n",
       "      <td>Project Zomboid</td>\n",
       "    </tr>\n",
       "  </tbody>\n",
       "</table>\n",
       "<p>6155417 rows × 4 columns</p>\n",
       "</div>"
      ],
      "text/plain": [
       "            username  product_id  hours                                  title\n",
       "0        󰀗THE0ERROR󰀗      322330   99.0                  Don't Starve Together\n",
       "1        󰀗THE0ERROR󰀗      204300  138.1             Awesomenauts - the 2D moba\n",
       "2         󰀗S-Rabbit󰀗      322330  116.0                  Don't Starve Together\n",
       "3         󰀗 Lolicage      244630    7.5                               NEOTOKYO\n",
       "4        󰀖Mr.Tarunio      391540   22.1                              Undertale\n",
       "...              ...         ...    ...                                    ...\n",
       "6155412            !      386360    6.5                                 SMITE®\n",
       "6155413            !      377160  123.3                              Fallout 4\n",
       "6155414            !      304240   42.7  Resident Evil / biohazard HD REMASTER\n",
       "6155415            !      227940   20.9                  Heroes &amp; Generals\n",
       "6155416            !      108600   13.6                        Project Zomboid\n",
       "\n",
       "[6155417 rows x 4 columns]"
      ]
     },
     "execution_count": 19,
     "metadata": {},
     "output_type": "execute_result"
    }
   ],
   "source": [
    "ind = dr.hours[dr['hours']<1].index\n",
    "dr.drop(index=ind,inplace=True)\n",
    "dr.reset_index(drop=True)"
   ]
  },
  {
   "cell_type": "markdown",
   "metadata": {},
   "source": [
    "* Se descartarán todos los usuarios con menos de 5 reviews, un usuario con menos de 5 reviews puede ensuciar la base de datos."
   ]
  },
  {
   "cell_type": "code",
   "execution_count": 20,
   "metadata": {},
   "outputs": [
    {
     "data": {
      "text/html": [
       "<div>\n",
       "<style scoped>\n",
       "    .dataframe tbody tr th:only-of-type {\n",
       "        vertical-align: middle;\n",
       "    }\n",
       "\n",
       "    .dataframe tbody tr th {\n",
       "        vertical-align: top;\n",
       "    }\n",
       "\n",
       "    .dataframe thead th {\n",
       "        text-align: right;\n",
       "    }\n",
       "</style>\n",
       "<table border=\"1\" class=\"dataframe\">\n",
       "  <thead>\n",
       "    <tr style=\"text-align: right;\">\n",
       "      <th></th>\n",
       "      <th>username</th>\n",
       "      <th>product_id</th>\n",
       "      <th>hours</th>\n",
       "      <th>title</th>\n",
       "    </tr>\n",
       "  </thead>\n",
       "  <tbody>\n",
       "    <tr>\n",
       "      <th>0</th>\n",
       "      <td>󰀓Oxymoronicphalanx󰀓</td>\n",
       "      <td>378370</td>\n",
       "      <td>8.6</td>\n",
       "      <td>Nomad</td>\n",
       "    </tr>\n",
       "    <tr>\n",
       "      <th>1</th>\n",
       "      <td>󰀓Oxymoronicphalanx󰀓</td>\n",
       "      <td>303390</td>\n",
       "      <td>4.3</td>\n",
       "      <td>Dead Bits</td>\n",
       "    </tr>\n",
       "    <tr>\n",
       "      <th>2</th>\n",
       "      <td>󰀓Oxymoronicphalanx󰀓</td>\n",
       "      <td>302830</td>\n",
       "      <td>1.9</td>\n",
       "      <td>BLOCKADE 3D</td>\n",
       "    </tr>\n",
       "    <tr>\n",
       "      <th>3</th>\n",
       "      <td>󰀓Oxymoronicphalanx󰀓</td>\n",
       "      <td>212800</td>\n",
       "      <td>11.2</td>\n",
       "      <td>Super Crate Box</td>\n",
       "    </tr>\n",
       "    <tr>\n",
       "      <th>4</th>\n",
       "      <td>󰀓Oxymoronicphalanx󰀓</td>\n",
       "      <td>200210</td>\n",
       "      <td>346.4</td>\n",
       "      <td>Realm of the Mad God</td>\n",
       "    </tr>\n",
       "    <tr>\n",
       "      <th>...</th>\n",
       "      <td>...</td>\n",
       "      <td>...</td>\n",
       "      <td>...</td>\n",
       "      <td>...</td>\n",
       "    </tr>\n",
       "    <tr>\n",
       "      <th>2662021</th>\n",
       "      <td>!</td>\n",
       "      <td>386360</td>\n",
       "      <td>6.5</td>\n",
       "      <td>SMITE®</td>\n",
       "    </tr>\n",
       "    <tr>\n",
       "      <th>2662022</th>\n",
       "      <td>!</td>\n",
       "      <td>377160</td>\n",
       "      <td>123.3</td>\n",
       "      <td>Fallout 4</td>\n",
       "    </tr>\n",
       "    <tr>\n",
       "      <th>2662023</th>\n",
       "      <td>!</td>\n",
       "      <td>304240</td>\n",
       "      <td>42.7</td>\n",
       "      <td>Resident Evil / biohazard HD REMASTER</td>\n",
       "    </tr>\n",
       "    <tr>\n",
       "      <th>2662024</th>\n",
       "      <td>!</td>\n",
       "      <td>227940</td>\n",
       "      <td>20.9</td>\n",
       "      <td>Heroes &amp;amp; Generals</td>\n",
       "    </tr>\n",
       "    <tr>\n",
       "      <th>2662025</th>\n",
       "      <td>!</td>\n",
       "      <td>108600</td>\n",
       "      <td>13.6</td>\n",
       "      <td>Project Zomboid</td>\n",
       "    </tr>\n",
       "  </tbody>\n",
       "</table>\n",
       "<p>2662026 rows × 4 columns</p>\n",
       "</div>"
      ],
      "text/plain": [
       "                    username  product_id  hours  \\\n",
       "0        󰀓Oxymoronicphalanx󰀓      378370    8.6   \n",
       "1        󰀓Oxymoronicphalanx󰀓      303390    4.3   \n",
       "2        󰀓Oxymoronicphalanx󰀓      302830    1.9   \n",
       "3        󰀓Oxymoronicphalanx󰀓      212800   11.2   \n",
       "4        󰀓Oxymoronicphalanx󰀓      200210  346.4   \n",
       "...                      ...         ...    ...   \n",
       "2662021                    !      386360    6.5   \n",
       "2662022                    !      377160  123.3   \n",
       "2662023                    !      304240   42.7   \n",
       "2662024                    !      227940   20.9   \n",
       "2662025                    !      108600   13.6   \n",
       "\n",
       "                                         title  \n",
       "0                                        Nomad  \n",
       "1                                    Dead Bits  \n",
       "2                                  BLOCKADE 3D  \n",
       "3                              Super Crate Box  \n",
       "4                         Realm of the Mad God  \n",
       "...                                        ...  \n",
       "2662021                                 SMITE®  \n",
       "2662022                              Fallout 4  \n",
       "2662023  Resident Evil / biohazard HD REMASTER  \n",
       "2662024                  Heroes &amp; Generals  \n",
       "2662025                        Project Zomboid  \n",
       "\n",
       "[2662026 rows x 4 columns]"
      ]
     },
     "execution_count": 20,
     "metadata": {},
     "output_type": "execute_result"
    }
   ],
   "source": [
    "usu = dr['product_id'].groupby(dr['username']).agg(['count']).reset_index()\n",
    "dr = pd.merge(dr,usu,on='username')\n",
    "ind = dr[dr['count']<=5].index\n",
    "dr.drop(index=ind,inplace=True)\n",
    "dr.drop(['count'],axis=1,inplace=True)\n",
    "dr.reset_index(drop=True)"
   ]
  },
  {
   "cell_type": "markdown",
   "metadata": {},
   "source": [
    "* Se descartarán los juegos con menos de 5 reviews, estos juegos no cumplen con la suficiente cantidad de usuarios para ser recomendados."
   ]
  },
  {
   "cell_type": "code",
   "execution_count": 21,
   "metadata": {},
   "outputs": [
    {
     "data": {
      "text/html": [
       "<div>\n",
       "<style scoped>\n",
       "    .dataframe tbody tr th:only-of-type {\n",
       "        vertical-align: middle;\n",
       "    }\n",
       "\n",
       "    .dataframe tbody tr th {\n",
       "        vertical-align: top;\n",
       "    }\n",
       "\n",
       "    .dataframe thead th {\n",
       "        text-align: right;\n",
       "    }\n",
       "</style>\n",
       "<table border=\"1\" class=\"dataframe\">\n",
       "  <thead>\n",
       "    <tr style=\"text-align: right;\">\n",
       "      <th></th>\n",
       "      <th>username</th>\n",
       "      <th>product_id</th>\n",
       "      <th>hours</th>\n",
       "      <th>title</th>\n",
       "    </tr>\n",
       "  </thead>\n",
       "  <tbody>\n",
       "    <tr>\n",
       "      <th>0</th>\n",
       "      <td>󰀓Oxymoronicphalanx󰀓</td>\n",
       "      <td>378370</td>\n",
       "      <td>8.6</td>\n",
       "      <td>Nomad</td>\n",
       "    </tr>\n",
       "    <tr>\n",
       "      <th>1</th>\n",
       "      <td>😠</td>\n",
       "      <td>378370</td>\n",
       "      <td>81.1</td>\n",
       "      <td>Nomad</td>\n",
       "    </tr>\n",
       "    <tr>\n",
       "      <th>2</th>\n",
       "      <td>💜ＫＡＺＡＴＥＲＡ💜</td>\n",
       "      <td>378370</td>\n",
       "      <td>3.1</td>\n",
       "      <td>Nomad</td>\n",
       "    </tr>\n",
       "    <tr>\n",
       "      <th>3</th>\n",
       "      <td>🎉</td>\n",
       "      <td>378370</td>\n",
       "      <td>1.3</td>\n",
       "      <td>Nomad</td>\n",
       "    </tr>\n",
       "    <tr>\n",
       "      <th>4</th>\n",
       "      <td>𝔂♥𝓱𝓰𝓾𝓻𝓽</td>\n",
       "      <td>378370</td>\n",
       "      <td>11.4</td>\n",
       "      <td>Nomad</td>\n",
       "    </tr>\n",
       "    <tr>\n",
       "      <th>...</th>\n",
       "      <td>...</td>\n",
       "      <td>...</td>\n",
       "      <td>...</td>\n",
       "      <td>...</td>\n",
       "    </tr>\n",
       "    <tr>\n",
       "      <th>2652014</th>\n",
       "      <td>Greagoir Snow</td>\n",
       "      <td>703870</td>\n",
       "      <td>6.5</td>\n",
       "      <td>Make a word!</td>\n",
       "    </tr>\n",
       "    <tr>\n",
       "      <th>2652015</th>\n",
       "      <td>Duustal</td>\n",
       "      <td>703870</td>\n",
       "      <td>6.5</td>\n",
       "      <td>Make a word!</td>\n",
       "    </tr>\n",
       "    <tr>\n",
       "      <th>2652016</th>\n",
       "      <td>Brunhowler</td>\n",
       "      <td>703870</td>\n",
       "      <td>1.0</td>\n",
       "      <td>Make a word!</td>\n",
       "    </tr>\n",
       "    <tr>\n",
       "      <th>2652017</th>\n",
       "      <td>Brano + Somebod toucha ma spaget</td>\n",
       "      <td>703870</td>\n",
       "      <td>2.0</td>\n",
       "      <td>Make a word!</td>\n",
       "    </tr>\n",
       "    <tr>\n",
       "      <th>2652018</th>\n",
       "      <td>Arthur</td>\n",
       "      <td>703870</td>\n",
       "      <td>6.5</td>\n",
       "      <td>Make a word!</td>\n",
       "    </tr>\n",
       "  </tbody>\n",
       "</table>\n",
       "<p>2652019 rows × 4 columns</p>\n",
       "</div>"
      ],
      "text/plain": [
       "                                 username  product_id  hours         title\n",
       "0                     󰀓Oxymoronicphalanx󰀓      378370    8.6         Nomad\n",
       "1                                       😠      378370   81.1         Nomad\n",
       "2                              💜ＫＡＺＡＴＥＲＡ💜      378370    3.1         Nomad\n",
       "3                                       🎉      378370    1.3         Nomad\n",
       "4                                 𝔂♥𝓱𝓰𝓾𝓻𝓽      378370   11.4         Nomad\n",
       "...                                   ...         ...    ...           ...\n",
       "2652014                     Greagoir Snow      703870    6.5  Make a word!\n",
       "2652015                           Duustal      703870    6.5  Make a word!\n",
       "2652016                        Brunhowler      703870    1.0  Make a word!\n",
       "2652017  Brano + Somebod toucha ma spaget      703870    2.0  Make a word!\n",
       "2652018                            Arthur      703870    6.5  Make a word!\n",
       "\n",
       "[2652019 rows x 4 columns]"
      ]
     },
     "execution_count": 21,
     "metadata": {},
     "output_type": "execute_result"
    }
   ],
   "source": [
    "usu = dr['username'].groupby(dr['product_id']).agg(['count']).reset_index()\n",
    "dr = pd.merge(dr,usu,on='product_id')\n",
    "ind = dr[dr['count']<=5].index\n",
    "dr.drop(index=ind,inplace=True)\n",
    "dr.drop(['count'],axis=1,inplace=True)\n",
    "dr.reset_index(drop=True)"
   ]
  },
  {
   "cell_type": "markdown",
   "metadata": {},
   "source": [
    "***\n",
    "\n",
    "### 3. Modelo de recomendación ###\n",
    "\n",
    "Se utilizará la librería [Implicit](https://implicit.readthedocs.io/en/latest/), que se especializa en el manejo de Datasets de feedback implicito. El modelo elegido es el de mínimos cuadrados alternantes, este es un modelo de factores latentes, al igual que SVD. Este tipo de modelos tipicamente asocian cada usuario $u$ dentro del conjunto total de usuarios $U$ con un vector factor usuario $x_{u}$ y cada item $i$ dentro del conjunto total de items $I$ con un vector factor item $y_{i}$. \n",
    "\n",
    "Los valores de la matriz de interacción son eventos que tienen preferencias y confianza específicas, que dan el valor de cada elemento. Debido a que se está desarrollando un modelo implícito, se introducirá un conjunto de variables binarias, donde será 1 si el usuario jugo el juego más de una hora y 0 para el resto.\n",
    "\n",
    "$$p_{ui}=\\begin{cases} 1& \\ hours > 1\\\\ 0& \\ hours < 1 \\end{cases}$$\n",
    "\n",
    "Confianza es la interacción entre el usuario u y el item, escalada en el valor α.\n",
    "\n",
    "$$c_{ui} = \\alpha p_{ui}$$ \n",
    "\n",
    "La función de costo del método es la siguiente:\n",
    "\n",
    "$${min}_{x,y} \\sum_{u,i} c_{ui}(p_{ui} - x_{u}^{T}y_{i})^{2} + \\lambda \\bigg(\\sum_{u} \\|x_{u}\\|^{2} + \\sum_{i} \\|y_{i}\\|^{2}\\bigg)$$\n",
    "\n",
    "Finalmente, el término $\\lambda$ se utiliza para regularizar el modelo y su valor se puede determinar mediante validación cruzada.\n",
    "\n",
    "La minimización de esta función se desarrolla con el método de gradiente conjugado desarrollado en el artículo [Applications of the Conjugate Gradient Method for Implicit Feedback Collaborative Filtering](http://citeseerx.ist.psu.edu/viewdoc/download?doi=10.1.1.379.6473&rep=rep1&type=pdf).\n",
    "\n"
   ]
  },
  {
   "cell_type": "code",
   "execution_count": 22,
   "metadata": {},
   "outputs": [],
   "source": [
    "from sklearn.preprocessing import LabelEncoder\n",
    "from sklearn.preprocessing import OneHotEncoder"
   ]
  },
  {
   "cell_type": "markdown",
   "metadata": {},
   "source": [
    "Se crea un codigo nuevo para los usuarios y los items."
   ]
  },
  {
   "cell_type": "code",
   "execution_count": 23,
   "metadata": {},
   "outputs": [],
   "source": [
    "le = LabelEncoder()\n",
    "\n",
    "dr['userid'] = le.fit_transform(dr['username'])\n",
    "dr['productid'] = le.fit_transform(dr['product_id'])\n",
    "dr['play'] = 1"
   ]
  },
  {
   "cell_type": "code",
   "execution_count": 24,
   "metadata": {},
   "outputs": [],
   "source": [
    "import os\n",
    "import scipy.sparse as sparse\n",
    "from implicit.als import AlternatingLeastSquares\n",
    "from implicit.evaluation import train_test_split, ranking_metrics_at_k\n",
    "os.environ['MKL_NUM_THREADS'] = '1'"
   ]
  },
  {
   "cell_type": "markdown",
   "metadata": {},
   "source": [
    "Se utilizará la librería sparse para crear las matrices de utilidad."
   ]
  },
  {
   "cell_type": "code",
   "execution_count": 25,
   "metadata": {},
   "outputs": [],
   "source": [
    "item_user = sparse.csr_matrix((dr['play'].astype(float), (dr['productid'].astype(int), dr['userid'].astype(int))))\n",
    "user_item = sparse.csr_matrix((dr['play'].astype(float), (dr['userid'].astype(int), dr['product_id'].astype(int))))\n"
   ]
  },
  {
   "cell_type": "markdown",
   "metadata": {},
   "source": [
    "Utilizaremos como valor alpha=40, por ser el recomendado, y los hiperparametros del modelo serán los predeterminados."
   ]
  },
  {
   "cell_type": "code",
   "execution_count": 26,
   "metadata": {},
   "outputs": [],
   "source": [
    "alpha_val = 40\n",
    "data_conf = (item_user * alpha_val).astype('double')\n",
    "\n",
    "train,test = train_test_split(data_conf,train_percentage=0.8)"
   ]
  },
  {
   "cell_type": "code",
   "execution_count": 27,
   "metadata": {},
   "outputs": [
    {
     "data": {
      "application/vnd.jupyter.widget-view+json": {
       "model_id": "4df95d98a5dc4565b756b9909e8af0fc",
       "version_major": 2,
       "version_minor": 0
      },
      "text/plain": [
       "HBox(children=(HTML(value=''), FloatProgress(value=0.0, max=15.0), HTML(value='')))"
      ]
     },
     "metadata": {},
     "output_type": "display_data"
    },
    {
     "name": "stdout",
     "output_type": "stream",
     "text": [
      "\n"
     ]
    }
   ],
   "source": [
    "model = AlternatingLeastSquares()\n",
    "\n",
    "model.fit(train)"
   ]
  },
  {
   "cell_type": "markdown",
   "metadata": {},
   "source": [
    "La evaluación del modelo seleccionada se realiza mediante la validación cruzada, entre las predicciones del modelo, entrenada con el conjunto de datos Train, y el conjunto de datos Test para cada usuario."
   ]
  },
  {
   "cell_type": "code",
   "execution_count": 28,
   "metadata": {},
   "outputs": [
    {
     "data": {
      "application/vnd.jupyter.widget-view+json": {
       "model_id": "877831ae97564c37af42c02b59847d74",
       "version_major": 2,
       "version_minor": 0
      },
      "text/plain": [
       "HBox(children=(HTML(value=''), FloatProgress(value=0.0, max=189726.0), HTML(value='')))"
      ]
     },
     "metadata": {},
     "output_type": "display_data"
    },
    {
     "name": "stdout",
     "output_type": "stream",
     "text": [
      "\n",
      "MAP:  0.042\n"
     ]
    }
   ],
   "source": [
    "metrics = ranking_metrics_at_k(model, train.T, test.T, K=20)\n",
    "\n",
    "print('MAP: ',round(metrics['map'],3))"
   ]
  },
  {
   "cell_type": "markdown",
   "metadata": {},
   "source": [
    "***\n",
    "### 4. Modelo de Benchmark ###\n",
    "\n",
    "Se realizará un modelo de benchmark comparando los TOP 10 items más populares. Para esto se creará una clase que recomiende según el score propuesto según la popularidad de los items."
   ]
  },
  {
   "cell_type": "code",
   "execution_count": 29,
   "metadata": {},
   "outputs": [],
   "source": [
    "ranking = dr.productid.value_counts().index\n",
    "score = np.linspace(10,-10,len(ranking))\n",
    "recomendations = list(tuple(zip(ranking, score)))"
   ]
  },
  {
   "cell_type": "code",
   "execution_count": 30,
   "metadata": {},
   "outputs": [],
   "source": [
    "class Benchmark:\n",
    "    def __init__(self, recomendations):\n",
    "        self.recomendations = recomendations\n",
    "        \n",
    "    def recommend(self, userid, user_item, N):\n",
    "        recomendations = self.recomendations[:N]\n",
    "        return recomendations"
   ]
  },
  {
   "cell_type": "code",
   "execution_count": 31,
   "metadata": {},
   "outputs": [],
   "source": [
    "model_Benchmark = Benchmark(recomendations)"
   ]
  },
  {
   "cell_type": "code",
   "execution_count": 32,
   "metadata": {},
   "outputs": [
    {
     "data": {
      "application/vnd.jupyter.widget-view+json": {
       "model_id": "22783eba007641e2833db87d9eec6601",
       "version_major": 2,
       "version_minor": 0
      },
      "text/plain": [
       "HBox(children=(HTML(value=''), FloatProgress(value=0.0, max=189726.0), HTML(value='')))"
      ]
     },
     "metadata": {},
     "output_type": "display_data"
    },
    {
     "name": "stdout",
     "output_type": "stream",
     "text": [
      "\n",
      "MAP benchmark:  0.027\n"
     ]
    }
   ],
   "source": [
    "metrics_benchmark = ranking_metrics_at_k(model_Benchmark, train.T, test.T, K=20, show_progress=True)\n",
    "print('MAP benchmark: ',round(metrics_benchmark['map'],3))"
   ]
  },
  {
   "cell_type": "markdown",
   "metadata": {},
   "source": [
    "***\n",
    "### 5. Optimización de hiperparametros ###\n",
    "\n"
   ]
  },
  {
   "cell_type": "code",
   "execution_count": 34,
   "metadata": {
    "collapsed": true,
    "jupyter": {
     "outputs_hidden": true
    }
   },
   "outputs": [
    {
     "data": {
      "application/vnd.jupyter.widget-view+json": {
       "model_id": "26beca4796e04933ac8331725717c369",
       "version_major": 2,
       "version_minor": 0
      },
      "text/plain": [
       "HBox(children=(HTML(value=''), FloatProgress(value=0.0, max=5.0), HTML(value='')))"
      ]
     },
     "metadata": {},
     "output_type": "display_data"
    },
    {
     "name": "stdout",
     "output_type": "stream",
     "text": [
      "\n"
     ]
    },
    {
     "data": {
      "application/vnd.jupyter.widget-view+json": {
       "model_id": "671e84bc93f145179c0f3a93cf7fbeb5",
       "version_major": 2,
       "version_minor": 0
      },
      "text/plain": [
       "HBox(children=(HTML(value=''), FloatProgress(value=0.0, max=189726.0), HTML(value='')))"
      ]
     },
     "metadata": {},
     "output_type": "display_data"
    },
    {
     "name": "stdout",
     "output_type": "stream",
     "text": [
      "\n"
     ]
    },
    {
     "data": {
      "application/vnd.jupyter.widget-view+json": {
       "model_id": "0e4195bcc87d43de8494f02e7d2c4f68",
       "version_major": 2,
       "version_minor": 0
      },
      "text/plain": [
       "HBox(children=(HTML(value=''), FloatProgress(value=0.0, max=10.0), HTML(value='')))"
      ]
     },
     "metadata": {},
     "output_type": "display_data"
    },
    {
     "name": "stdout",
     "output_type": "stream",
     "text": [
      "\n"
     ]
    },
    {
     "data": {
      "application/vnd.jupyter.widget-view+json": {
       "model_id": "f16e50390ca24dfab655016cba988106",
       "version_major": 2,
       "version_minor": 0
      },
      "text/plain": [
       "HBox(children=(HTML(value=''), FloatProgress(value=0.0, max=189726.0), HTML(value='')))"
      ]
     },
     "metadata": {},
     "output_type": "display_data"
    },
    {
     "name": "stdout",
     "output_type": "stream",
     "text": [
      "\n"
     ]
    },
    {
     "data": {
      "application/vnd.jupyter.widget-view+json": {
       "model_id": "bf0985afe0514e5c937d7715cd74f017",
       "version_major": 2,
       "version_minor": 0
      },
      "text/plain": [
       "HBox(children=(HTML(value=''), FloatProgress(value=0.0, max=15.0), HTML(value='')))"
      ]
     },
     "metadata": {},
     "output_type": "display_data"
    },
    {
     "name": "stdout",
     "output_type": "stream",
     "text": [
      "\n"
     ]
    },
    {
     "data": {
      "application/vnd.jupyter.widget-view+json": {
       "model_id": "5043a6760b6a4d3a887c4cedb8403df3",
       "version_major": 2,
       "version_minor": 0
      },
      "text/plain": [
       "HBox(children=(HTML(value=''), FloatProgress(value=0.0, max=189726.0), HTML(value='')))"
      ]
     },
     "metadata": {},
     "output_type": "display_data"
    },
    {
     "name": "stdout",
     "output_type": "stream",
     "text": [
      "\n"
     ]
    },
    {
     "data": {
      "application/vnd.jupyter.widget-view+json": {
       "model_id": "17f5f8b360a44419adac53148a2068e0",
       "version_major": 2,
       "version_minor": 0
      },
      "text/plain": [
       "HBox(children=(HTML(value=''), FloatProgress(value=0.0, max=20.0), HTML(value='')))"
      ]
     },
     "metadata": {},
     "output_type": "display_data"
    },
    {
     "name": "stdout",
     "output_type": "stream",
     "text": [
      "\n"
     ]
    },
    {
     "data": {
      "application/vnd.jupyter.widget-view+json": {
       "model_id": "df2349ec7b504f0ea93e42e2d00f52bc",
       "version_major": 2,
       "version_minor": 0
      },
      "text/plain": [
       "HBox(children=(HTML(value=''), FloatProgress(value=0.0, max=189726.0), HTML(value='')))"
      ]
     },
     "metadata": {},
     "output_type": "display_data"
    },
    {
     "name": "stdout",
     "output_type": "stream",
     "text": [
      "\n"
     ]
    },
    {
     "data": {
      "application/vnd.jupyter.widget-view+json": {
       "model_id": "c527ec01f0ce427ca143594663fa7d1f",
       "version_major": 2,
       "version_minor": 0
      },
      "text/plain": [
       "HBox(children=(HTML(value=''), FloatProgress(value=0.0, max=25.0), HTML(value='')))"
      ]
     },
     "metadata": {},
     "output_type": "display_data"
    },
    {
     "name": "stdout",
     "output_type": "stream",
     "text": [
      "\n"
     ]
    },
    {
     "data": {
      "application/vnd.jupyter.widget-view+json": {
       "model_id": "cb87e8f221754ca0b62a61f0be746251",
       "version_major": 2,
       "version_minor": 0
      },
      "text/plain": [
       "HBox(children=(HTML(value=''), FloatProgress(value=0.0, max=189726.0), HTML(value='')))"
      ]
     },
     "metadata": {},
     "output_type": "display_data"
    },
    {
     "name": "stdout",
     "output_type": "stream",
     "text": [
      "\n"
     ]
    },
    {
     "data": {
      "application/vnd.jupyter.widget-view+json": {
       "model_id": "2f2b102140bb4418bd11b66dc8c3df1b",
       "version_major": 2,
       "version_minor": 0
      },
      "text/plain": [
       "HBox(children=(HTML(value=''), FloatProgress(value=0.0, max=30.0), HTML(value='')))"
      ]
     },
     "metadata": {},
     "output_type": "display_data"
    },
    {
     "name": "stdout",
     "output_type": "stream",
     "text": [
      "\n"
     ]
    },
    {
     "data": {
      "application/vnd.jupyter.widget-view+json": {
       "model_id": "604de118881f44eb948c280d135241bd",
       "version_major": 2,
       "version_minor": 0
      },
      "text/plain": [
       "HBox(children=(HTML(value=''), FloatProgress(value=0.0, max=189726.0), HTML(value='')))"
      ]
     },
     "metadata": {},
     "output_type": "display_data"
    },
    {
     "name": "stdout",
     "output_type": "stream",
     "text": [
      "\n"
     ]
    },
    {
     "data": {
      "application/vnd.jupyter.widget-view+json": {
       "model_id": "3086e00e1c9847c6805958fda1ae712d",
       "version_major": 2,
       "version_minor": 0
      },
      "text/plain": [
       "HBox(children=(HTML(value=''), FloatProgress(value=0.0, max=35.0), HTML(value='')))"
      ]
     },
     "metadata": {},
     "output_type": "display_data"
    },
    {
     "name": "stdout",
     "output_type": "stream",
     "text": [
      "\n"
     ]
    },
    {
     "data": {
      "application/vnd.jupyter.widget-view+json": {
       "model_id": "74333b6608b741bbbb67a27498be5290",
       "version_major": 2,
       "version_minor": 0
      },
      "text/plain": [
       "HBox(children=(HTML(value=''), FloatProgress(value=0.0, max=189726.0), HTML(value='')))"
      ]
     },
     "metadata": {},
     "output_type": "display_data"
    },
    {
     "name": "stdout",
     "output_type": "stream",
     "text": [
      "\n"
     ]
    },
    {
     "data": {
      "application/vnd.jupyter.widget-view+json": {
       "model_id": "d83ad46b63dd466b9b81849c8e261a82",
       "version_major": 2,
       "version_minor": 0
      },
      "text/plain": [
       "HBox(children=(HTML(value=''), FloatProgress(value=0.0, max=40.0), HTML(value='')))"
      ]
     },
     "metadata": {},
     "output_type": "display_data"
    },
    {
     "name": "stdout",
     "output_type": "stream",
     "text": [
      "\n"
     ]
    },
    {
     "data": {
      "application/vnd.jupyter.widget-view+json": {
       "model_id": "da51d52d004c49e7a2dd71e1a433e21a",
       "version_major": 2,
       "version_minor": 0
      },
      "text/plain": [
       "HBox(children=(HTML(value=''), FloatProgress(value=0.0, max=189726.0), HTML(value='')))"
      ]
     },
     "metadata": {},
     "output_type": "display_data"
    },
    {
     "name": "stdout",
     "output_type": "stream",
     "text": [
      "\n"
     ]
    },
    {
     "data": {
      "application/vnd.jupyter.widget-view+json": {
       "model_id": "d66911ff7f92433686d6d2d2dd8e86d1",
       "version_major": 2,
       "version_minor": 0
      },
      "text/plain": [
       "HBox(children=(HTML(value=''), FloatProgress(value=0.0, max=45.0), HTML(value='')))"
      ]
     },
     "metadata": {},
     "output_type": "display_data"
    },
    {
     "name": "stdout",
     "output_type": "stream",
     "text": [
      "\n"
     ]
    },
    {
     "data": {
      "application/vnd.jupyter.widget-view+json": {
       "model_id": "b9abe5eb021a4e9dba74378c897d3091",
       "version_major": 2,
       "version_minor": 0
      },
      "text/plain": [
       "HBox(children=(HTML(value=''), FloatProgress(value=0.0, max=189726.0), HTML(value='')))"
      ]
     },
     "metadata": {},
     "output_type": "display_data"
    },
    {
     "name": "stdout",
     "output_type": "stream",
     "text": [
      "\n"
     ]
    },
    {
     "data": {
      "application/vnd.jupyter.widget-view+json": {
       "model_id": "dbb04ec21128462bab49fd6db1aa9454",
       "version_major": 2,
       "version_minor": 0
      },
      "text/plain": [
       "HBox(children=(HTML(value=''), FloatProgress(value=0.0, max=50.0), HTML(value='')))"
      ]
     },
     "metadata": {},
     "output_type": "display_data"
    },
    {
     "name": "stdout",
     "output_type": "stream",
     "text": [
      "\n"
     ]
    },
    {
     "data": {
      "application/vnd.jupyter.widget-view+json": {
       "model_id": "1f018372cf8c4ed593a382b82f0d8978",
       "version_major": 2,
       "version_minor": 0
      },
      "text/plain": [
       "HBox(children=(HTML(value=''), FloatProgress(value=0.0, max=189726.0), HTML(value='')))"
      ]
     },
     "metadata": {},
     "output_type": "display_data"
    },
    {
     "name": "stdout",
     "output_type": "stream",
     "text": [
      "\n"
     ]
    },
    {
     "data": {
      "application/vnd.jupyter.widget-view+json": {
       "model_id": "ab1bc1cd11b246748151297e5c571b3c",
       "version_major": 2,
       "version_minor": 0
      },
      "text/plain": [
       "HBox(children=(HTML(value=''), FloatProgress(value=0.0, max=55.0), HTML(value='')))"
      ]
     },
     "metadata": {},
     "output_type": "display_data"
    },
    {
     "name": "stdout",
     "output_type": "stream",
     "text": [
      "\n"
     ]
    },
    {
     "data": {
      "application/vnd.jupyter.widget-view+json": {
       "model_id": "c3a81655f8a14d1b8e99f62d20a20a0e",
       "version_major": 2,
       "version_minor": 0
      },
      "text/plain": [
       "HBox(children=(HTML(value=''), FloatProgress(value=0.0, max=189726.0), HTML(value='')))"
      ]
     },
     "metadata": {},
     "output_type": "display_data"
    },
    {
     "name": "stdout",
     "output_type": "stream",
     "text": [
      "\n"
     ]
    },
    {
     "data": {
      "application/vnd.jupyter.widget-view+json": {
       "model_id": "f654e53def0c4ddda1c0ec425d2bae95",
       "version_major": 2,
       "version_minor": 0
      },
      "text/plain": [
       "HBox(children=(HTML(value=''), FloatProgress(value=0.0, max=60.0), HTML(value='')))"
      ]
     },
     "metadata": {},
     "output_type": "display_data"
    },
    {
     "name": "stdout",
     "output_type": "stream",
     "text": [
      "\n"
     ]
    },
    {
     "data": {
      "application/vnd.jupyter.widget-view+json": {
       "model_id": "c8756f46ac3244c2a76c1608f03700cc",
       "version_major": 2,
       "version_minor": 0
      },
      "text/plain": [
       "HBox(children=(HTML(value=''), FloatProgress(value=0.0, max=189726.0), HTML(value='')))"
      ]
     },
     "metadata": {},
     "output_type": "display_data"
    },
    {
     "name": "stdout",
     "output_type": "stream",
     "text": [
      "\n",
      "Wall time: 41min 14s\n"
     ]
    }
   ],
   "source": [
    "%%time\n",
    "itera=list(range(5,65,5))\n",
    "iter_map=[]\n",
    "for i in itera:\n",
    "    alpha_val = 40\n",
    "    data_conf = (item_user * alpha_val).astype('double')\n",
    "    train, test = train_test_split(data_conf,train_percentage=0.8)\n",
    "    model = AlternatingLeastSquares(factors=20,regularization=0.1,iterations=i)\n",
    "    model.fit(train)\n",
    "    metrics = ranking_metrics_at_k(model, train.T, test.T, K=20)\n",
    "    iter_map.append(metrics['map'])\n",
    "    "
   ]
  },
  {
   "cell_type": "code",
   "execution_count": 35,
   "metadata": {
    "collapsed": true,
    "jupyter": {
     "outputs_hidden": true
    }
   },
   "outputs": [
    {
     "data": {
      "application/vnd.jupyter.widget-view+json": {
       "model_id": "14fdf5fff2ea425f937fe4f02f388089",
       "version_major": 2,
       "version_minor": 0
      },
      "text/plain": [
       "HBox(children=(HTML(value=''), FloatProgress(value=0.0, max=15.0), HTML(value='')))"
      ]
     },
     "metadata": {},
     "output_type": "display_data"
    },
    {
     "name": "stdout",
     "output_type": "stream",
     "text": [
      "\n"
     ]
    },
    {
     "data": {
      "application/vnd.jupyter.widget-view+json": {
       "model_id": "c372123e98fb4f93b01a4368236b1826",
       "version_major": 2,
       "version_minor": 0
      },
      "text/plain": [
       "HBox(children=(HTML(value=''), FloatProgress(value=0.0, max=189726.0), HTML(value='')))"
      ]
     },
     "metadata": {},
     "output_type": "display_data"
    },
    {
     "name": "stdout",
     "output_type": "stream",
     "text": [
      "\n"
     ]
    },
    {
     "data": {
      "application/vnd.jupyter.widget-view+json": {
       "model_id": "23466da1f53e4469bf60eb025ae94bb0",
       "version_major": 2,
       "version_minor": 0
      },
      "text/plain": [
       "HBox(children=(HTML(value=''), FloatProgress(value=0.0, max=15.0), HTML(value='')))"
      ]
     },
     "metadata": {},
     "output_type": "display_data"
    },
    {
     "name": "stdout",
     "output_type": "stream",
     "text": [
      "\n"
     ]
    },
    {
     "data": {
      "application/vnd.jupyter.widget-view+json": {
       "model_id": "c3b26b123eae403b847ba4c5aa879bc7",
       "version_major": 2,
       "version_minor": 0
      },
      "text/plain": [
       "HBox(children=(HTML(value=''), FloatProgress(value=0.0, max=189726.0), HTML(value='')))"
      ]
     },
     "metadata": {},
     "output_type": "display_data"
    },
    {
     "name": "stdout",
     "output_type": "stream",
     "text": [
      "\n"
     ]
    },
    {
     "data": {
      "application/vnd.jupyter.widget-view+json": {
       "model_id": "1d50a4fa89694ce0adafa6c83a28ca7b",
       "version_major": 2,
       "version_minor": 0
      },
      "text/plain": [
       "HBox(children=(HTML(value=''), FloatProgress(value=0.0, max=15.0), HTML(value='')))"
      ]
     },
     "metadata": {},
     "output_type": "display_data"
    },
    {
     "name": "stdout",
     "output_type": "stream",
     "text": [
      "\n"
     ]
    },
    {
     "data": {
      "application/vnd.jupyter.widget-view+json": {
       "model_id": "8e08aa53a98d476a89660dd09267c439",
       "version_major": 2,
       "version_minor": 0
      },
      "text/plain": [
       "HBox(children=(HTML(value=''), FloatProgress(value=0.0, max=189726.0), HTML(value='')))"
      ]
     },
     "metadata": {},
     "output_type": "display_data"
    },
    {
     "name": "stdout",
     "output_type": "stream",
     "text": [
      "\n"
     ]
    },
    {
     "data": {
      "application/vnd.jupyter.widget-view+json": {
       "model_id": "996d7ee766c84de0855f807663ce7ca3",
       "version_major": 2,
       "version_minor": 0
      },
      "text/plain": [
       "HBox(children=(HTML(value=''), FloatProgress(value=0.0, max=15.0), HTML(value='')))"
      ]
     },
     "metadata": {},
     "output_type": "display_data"
    },
    {
     "name": "stdout",
     "output_type": "stream",
     "text": [
      "\n"
     ]
    },
    {
     "data": {
      "application/vnd.jupyter.widget-view+json": {
       "model_id": "e61980b06eaa4df1afa4f60b94a676cd",
       "version_major": 2,
       "version_minor": 0
      },
      "text/plain": [
       "HBox(children=(HTML(value=''), FloatProgress(value=0.0, max=189726.0), HTML(value='')))"
      ]
     },
     "metadata": {},
     "output_type": "display_data"
    },
    {
     "name": "stdout",
     "output_type": "stream",
     "text": [
      "\n"
     ]
    },
    {
     "data": {
      "application/vnd.jupyter.widget-view+json": {
       "model_id": "3acee23216fe4664b84d74c74ab22aff",
       "version_major": 2,
       "version_minor": 0
      },
      "text/plain": [
       "HBox(children=(HTML(value=''), FloatProgress(value=0.0, max=15.0), HTML(value='')))"
      ]
     },
     "metadata": {},
     "output_type": "display_data"
    },
    {
     "name": "stdout",
     "output_type": "stream",
     "text": [
      "\n"
     ]
    },
    {
     "data": {
      "application/vnd.jupyter.widget-view+json": {
       "model_id": "fb98c0da958b4637b9ce86acb1c9296b",
       "version_major": 2,
       "version_minor": 0
      },
      "text/plain": [
       "HBox(children=(HTML(value=''), FloatProgress(value=0.0, max=189726.0), HTML(value='')))"
      ]
     },
     "metadata": {},
     "output_type": "display_data"
    },
    {
     "name": "stdout",
     "output_type": "stream",
     "text": [
      "\n"
     ]
    },
    {
     "data": {
      "application/vnd.jupyter.widget-view+json": {
       "model_id": "4430c195c8f9426b8e48abe3b7a106be",
       "version_major": 2,
       "version_minor": 0
      },
      "text/plain": [
       "HBox(children=(HTML(value=''), FloatProgress(value=0.0, max=15.0), HTML(value='')))"
      ]
     },
     "metadata": {},
     "output_type": "display_data"
    },
    {
     "name": "stdout",
     "output_type": "stream",
     "text": [
      "\n"
     ]
    },
    {
     "data": {
      "application/vnd.jupyter.widget-view+json": {
       "model_id": "f3d8d0155e4c4905859ab51f976ac388",
       "version_major": 2,
       "version_minor": 0
      },
      "text/plain": [
       "HBox(children=(HTML(value=''), FloatProgress(value=0.0, max=189726.0), HTML(value='')))"
      ]
     },
     "metadata": {},
     "output_type": "display_data"
    },
    {
     "name": "stdout",
     "output_type": "stream",
     "text": [
      "\n"
     ]
    },
    {
     "data": {
      "application/vnd.jupyter.widget-view+json": {
       "model_id": "ac66e6c4d51b401980a4870376f59117",
       "version_major": 2,
       "version_minor": 0
      },
      "text/plain": [
       "HBox(children=(HTML(value=''), FloatProgress(value=0.0, max=15.0), HTML(value='')))"
      ]
     },
     "metadata": {},
     "output_type": "display_data"
    },
    {
     "name": "stdout",
     "output_type": "stream",
     "text": [
      "\n"
     ]
    },
    {
     "data": {
      "application/vnd.jupyter.widget-view+json": {
       "model_id": "45a571d8677b48ec8a9aaa302995ea77",
       "version_major": 2,
       "version_minor": 0
      },
      "text/plain": [
       "HBox(children=(HTML(value=''), FloatProgress(value=0.0, max=189726.0), HTML(value='')))"
      ]
     },
     "metadata": {},
     "output_type": "display_data"
    },
    {
     "name": "stdout",
     "output_type": "stream",
     "text": [
      "\n"
     ]
    },
    {
     "data": {
      "application/vnd.jupyter.widget-view+json": {
       "model_id": "fa2ed29bb6524a5085b618e8c844739e",
       "version_major": 2,
       "version_minor": 0
      },
      "text/plain": [
       "HBox(children=(HTML(value=''), FloatProgress(value=0.0, max=15.0), HTML(value='')))"
      ]
     },
     "metadata": {},
     "output_type": "display_data"
    },
    {
     "name": "stdout",
     "output_type": "stream",
     "text": [
      "\n"
     ]
    },
    {
     "data": {
      "application/vnd.jupyter.widget-view+json": {
       "model_id": "1e2a2daf416c4564a3f036eae12a6d34",
       "version_major": 2,
       "version_minor": 0
      },
      "text/plain": [
       "HBox(children=(HTML(value=''), FloatProgress(value=0.0, max=189726.0), HTML(value='')))"
      ]
     },
     "metadata": {},
     "output_type": "display_data"
    },
    {
     "name": "stdout",
     "output_type": "stream",
     "text": [
      "\n"
     ]
    },
    {
     "data": {
      "application/vnd.jupyter.widget-view+json": {
       "model_id": "0d41b6158cd64893a0b5878d0fc5b737",
       "version_major": 2,
       "version_minor": 0
      },
      "text/plain": [
       "HBox(children=(HTML(value=''), FloatProgress(value=0.0, max=15.0), HTML(value='')))"
      ]
     },
     "metadata": {},
     "output_type": "display_data"
    },
    {
     "name": "stdout",
     "output_type": "stream",
     "text": [
      "\n"
     ]
    },
    {
     "data": {
      "application/vnd.jupyter.widget-view+json": {
       "model_id": "444d8a0be19343789a42c6fe994ad1ec",
       "version_major": 2,
       "version_minor": 0
      },
      "text/plain": [
       "HBox(children=(HTML(value=''), FloatProgress(value=0.0, max=189726.0), HTML(value='')))"
      ]
     },
     "metadata": {},
     "output_type": "display_data"
    },
    {
     "name": "stdout",
     "output_type": "stream",
     "text": [
      "\n"
     ]
    },
    {
     "data": {
      "application/vnd.jupyter.widget-view+json": {
       "model_id": "8a57137c1aa940f1af0cb8c20e09db28",
       "version_major": 2,
       "version_minor": 0
      },
      "text/plain": [
       "HBox(children=(HTML(value=''), FloatProgress(value=0.0, max=15.0), HTML(value='')))"
      ]
     },
     "metadata": {},
     "output_type": "display_data"
    },
    {
     "name": "stdout",
     "output_type": "stream",
     "text": [
      "\n"
     ]
    },
    {
     "data": {
      "application/vnd.jupyter.widget-view+json": {
       "model_id": "e0e063c931e7412db3c0b0399487e8ec",
       "version_major": 2,
       "version_minor": 0
      },
      "text/plain": [
       "HBox(children=(HTML(value=''), FloatProgress(value=0.0, max=189726.0), HTML(value='')))"
      ]
     },
     "metadata": {},
     "output_type": "display_data"
    },
    {
     "name": "stdout",
     "output_type": "stream",
     "text": [
      "\n"
     ]
    },
    {
     "data": {
      "application/vnd.jupyter.widget-view+json": {
       "model_id": "4883c6a3f9d048ac803749199fd23c48",
       "version_major": 2,
       "version_minor": 0
      },
      "text/plain": [
       "HBox(children=(HTML(value=''), FloatProgress(value=0.0, max=15.0), HTML(value='')))"
      ]
     },
     "metadata": {},
     "output_type": "display_data"
    },
    {
     "name": "stdout",
     "output_type": "stream",
     "text": [
      "\n"
     ]
    },
    {
     "data": {
      "application/vnd.jupyter.widget-view+json": {
       "model_id": "1bf1ed0081474e97a739602800ec4ef7",
       "version_major": 2,
       "version_minor": 0
      },
      "text/plain": [
       "HBox(children=(HTML(value=''), FloatProgress(value=0.0, max=189726.0), HTML(value='')))"
      ]
     },
     "metadata": {},
     "output_type": "display_data"
    },
    {
     "name": "stdout",
     "output_type": "stream",
     "text": [
      "\n"
     ]
    },
    {
     "data": {
      "application/vnd.jupyter.widget-view+json": {
       "model_id": "9b348a68c8d6458b9d944edc646f7d2b",
       "version_major": 2,
       "version_minor": 0
      },
      "text/plain": [
       "HBox(children=(HTML(value=''), FloatProgress(value=0.0, max=15.0), HTML(value='')))"
      ]
     },
     "metadata": {},
     "output_type": "display_data"
    },
    {
     "name": "stdout",
     "output_type": "stream",
     "text": [
      "\n"
     ]
    },
    {
     "data": {
      "application/vnd.jupyter.widget-view+json": {
       "model_id": "c864152c7af841e485fd21c933283fd2",
       "version_major": 2,
       "version_minor": 0
      },
      "text/plain": [
       "HBox(children=(HTML(value=''), FloatProgress(value=0.0, max=189726.0), HTML(value='')))"
      ]
     },
     "metadata": {},
     "output_type": "display_data"
    },
    {
     "name": "stdout",
     "output_type": "stream",
     "text": [
      "\n"
     ]
    },
    {
     "data": {
      "application/vnd.jupyter.widget-view+json": {
       "model_id": "30862742b99f4cb4a0478a4aca79056f",
       "version_major": 2,
       "version_minor": 0
      },
      "text/plain": [
       "HBox(children=(HTML(value=''), FloatProgress(value=0.0, max=15.0), HTML(value='')))"
      ]
     },
     "metadata": {},
     "output_type": "display_data"
    },
    {
     "name": "stdout",
     "output_type": "stream",
     "text": [
      "\n"
     ]
    },
    {
     "data": {
      "application/vnd.jupyter.widget-view+json": {
       "model_id": "5c3d52c4007249faac4bef9b1eb05db7",
       "version_major": 2,
       "version_minor": 0
      },
      "text/plain": [
       "HBox(children=(HTML(value=''), FloatProgress(value=0.0, max=189726.0), HTML(value='')))"
      ]
     },
     "metadata": {},
     "output_type": "display_data"
    },
    {
     "name": "stdout",
     "output_type": "stream",
     "text": [
      "\n"
     ]
    },
    {
     "data": {
      "application/vnd.jupyter.widget-view+json": {
       "model_id": "499b1d6ebca0407b84e89e2dfa436200",
       "version_major": 2,
       "version_minor": 0
      },
      "text/plain": [
       "HBox(children=(HTML(value=''), FloatProgress(value=0.0, max=15.0), HTML(value='')))"
      ]
     },
     "metadata": {},
     "output_type": "display_data"
    },
    {
     "name": "stdout",
     "output_type": "stream",
     "text": [
      "\n"
     ]
    },
    {
     "data": {
      "application/vnd.jupyter.widget-view+json": {
       "model_id": "b5938577bd584876872bba104c226675",
       "version_major": 2,
       "version_minor": 0
      },
      "text/plain": [
       "HBox(children=(HTML(value=''), FloatProgress(value=0.0, max=189726.0), HTML(value='')))"
      ]
     },
     "metadata": {},
     "output_type": "display_data"
    },
    {
     "name": "stdout",
     "output_type": "stream",
     "text": [
      "\n"
     ]
    },
    {
     "data": {
      "application/vnd.jupyter.widget-view+json": {
       "model_id": "4bd50dc03ac843e392215277ddea925f",
       "version_major": 2,
       "version_minor": 0
      },
      "text/plain": [
       "HBox(children=(HTML(value=''), FloatProgress(value=0.0, max=15.0), HTML(value='')))"
      ]
     },
     "metadata": {},
     "output_type": "display_data"
    },
    {
     "name": "stdout",
     "output_type": "stream",
     "text": [
      "\n"
     ]
    },
    {
     "data": {
      "application/vnd.jupyter.widget-view+json": {
       "model_id": "2f554079b5734ea799861554d4ab25e3",
       "version_major": 2,
       "version_minor": 0
      },
      "text/plain": [
       "HBox(children=(HTML(value=''), FloatProgress(value=0.0, max=189726.0), HTML(value='')))"
      ]
     },
     "metadata": {},
     "output_type": "display_data"
    },
    {
     "name": "stdout",
     "output_type": "stream",
     "text": [
      "\n",
      "Wall time: 23min 58s\n"
     ]
    }
   ],
   "source": [
    "%%time\n",
    "regs=list(np.linspace(0.01,1,15,endpoint=True))\n",
    "regs_map=[]\n",
    "for i in regs:\n",
    "    alpha_val = 40\n",
    "    data_conf = (item_user * alpha_val).astype('double')\n",
    "    train, test = train_test_split(data_conf,train_percentage=0.8)\n",
    "    model = AlternatingLeastSquares(factors=20,regularization=i,iterations=15)\n",
    "    model.fit(train)\n",
    "    metrics = ranking_metrics_at_k(model, train.T, test.T, K=20)\n",
    "    regs_map.append(metrics['map'])"
   ]
  },
  {
   "cell_type": "code",
   "execution_count": 36,
   "metadata": {
    "collapsed": true,
    "jupyter": {
     "outputs_hidden": true
    }
   },
   "outputs": [
    {
     "data": {
      "application/vnd.jupyter.widget-view+json": {
       "model_id": "7321379539b84f6492dbb22b27816aac",
       "version_major": 2,
       "version_minor": 0
      },
      "text/plain": [
       "HBox(children=(HTML(value=''), FloatProgress(value=0.0, max=15.0), HTML(value='')))"
      ]
     },
     "metadata": {},
     "output_type": "display_data"
    },
    {
     "name": "stdout",
     "output_type": "stream",
     "text": [
      "\n"
     ]
    },
    {
     "data": {
      "application/vnd.jupyter.widget-view+json": {
       "model_id": "9f75e62d9955487694afec028071c3f1",
       "version_major": 2,
       "version_minor": 0
      },
      "text/plain": [
       "HBox(children=(HTML(value=''), FloatProgress(value=0.0, max=189726.0), HTML(value='')))"
      ]
     },
     "metadata": {},
     "output_type": "display_data"
    },
    {
     "name": "stdout",
     "output_type": "stream",
     "text": [
      "\n"
     ]
    },
    {
     "data": {
      "application/vnd.jupyter.widget-view+json": {
       "model_id": "d683c18bf2ae485a832e1fd5253fdf76",
       "version_major": 2,
       "version_minor": 0
      },
      "text/plain": [
       "HBox(children=(HTML(value=''), FloatProgress(value=0.0, max=15.0), HTML(value='')))"
      ]
     },
     "metadata": {},
     "output_type": "display_data"
    },
    {
     "name": "stdout",
     "output_type": "stream",
     "text": [
      "\n"
     ]
    },
    {
     "data": {
      "application/vnd.jupyter.widget-view+json": {
       "model_id": "7cc1d9f149c645a58f331e9c65aaa088",
       "version_major": 2,
       "version_minor": 0
      },
      "text/plain": [
       "HBox(children=(HTML(value=''), FloatProgress(value=0.0, max=189726.0), HTML(value='')))"
      ]
     },
     "metadata": {},
     "output_type": "display_data"
    },
    {
     "name": "stdout",
     "output_type": "stream",
     "text": [
      "\n"
     ]
    },
    {
     "data": {
      "application/vnd.jupyter.widget-view+json": {
       "model_id": "765605d9b59d42249e64e879d0999daa",
       "version_major": 2,
       "version_minor": 0
      },
      "text/plain": [
       "HBox(children=(HTML(value=''), FloatProgress(value=0.0, max=15.0), HTML(value='')))"
      ]
     },
     "metadata": {},
     "output_type": "display_data"
    },
    {
     "name": "stdout",
     "output_type": "stream",
     "text": [
      "\n"
     ]
    },
    {
     "data": {
      "application/vnd.jupyter.widget-view+json": {
       "model_id": "fd2448ac1a7146bfa6ecf3a601a499e7",
       "version_major": 2,
       "version_minor": 0
      },
      "text/plain": [
       "HBox(children=(HTML(value=''), FloatProgress(value=0.0, max=189726.0), HTML(value='')))"
      ]
     },
     "metadata": {},
     "output_type": "display_data"
    },
    {
     "name": "stdout",
     "output_type": "stream",
     "text": [
      "\n"
     ]
    },
    {
     "data": {
      "application/vnd.jupyter.widget-view+json": {
       "model_id": "f397df2218ba450596d65bc3b13520a4",
       "version_major": 2,
       "version_minor": 0
      },
      "text/plain": [
       "HBox(children=(HTML(value=''), FloatProgress(value=0.0, max=15.0), HTML(value='')))"
      ]
     },
     "metadata": {},
     "output_type": "display_data"
    },
    {
     "name": "stdout",
     "output_type": "stream",
     "text": [
      "\n"
     ]
    },
    {
     "data": {
      "application/vnd.jupyter.widget-view+json": {
       "model_id": "590c3b0d3ebd49749cf9550a29148cc6",
       "version_major": 2,
       "version_minor": 0
      },
      "text/plain": [
       "HBox(children=(HTML(value=''), FloatProgress(value=0.0, max=189726.0), HTML(value='')))"
      ]
     },
     "metadata": {},
     "output_type": "display_data"
    },
    {
     "name": "stdout",
     "output_type": "stream",
     "text": [
      "\n"
     ]
    },
    {
     "data": {
      "application/vnd.jupyter.widget-view+json": {
       "model_id": "83fef67153d4418c8423d8f6725d8741",
       "version_major": 2,
       "version_minor": 0
      },
      "text/plain": [
       "HBox(children=(HTML(value=''), FloatProgress(value=0.0, max=15.0), HTML(value='')))"
      ]
     },
     "metadata": {},
     "output_type": "display_data"
    },
    {
     "name": "stdout",
     "output_type": "stream",
     "text": [
      "\n"
     ]
    },
    {
     "data": {
      "application/vnd.jupyter.widget-view+json": {
       "model_id": "8750af3961f540eaaa89f09dc3896917",
       "version_major": 2,
       "version_minor": 0
      },
      "text/plain": [
       "HBox(children=(HTML(value=''), FloatProgress(value=0.0, max=189726.0), HTML(value='')))"
      ]
     },
     "metadata": {},
     "output_type": "display_data"
    },
    {
     "name": "stdout",
     "output_type": "stream",
     "text": [
      "\n"
     ]
    },
    {
     "data": {
      "application/vnd.jupyter.widget-view+json": {
       "model_id": "21f02aa9f95f4c5b80b90a6a749ca6ee",
       "version_major": 2,
       "version_minor": 0
      },
      "text/plain": [
       "HBox(children=(HTML(value=''), FloatProgress(value=0.0, max=15.0), HTML(value='')))"
      ]
     },
     "metadata": {},
     "output_type": "display_data"
    },
    {
     "name": "stdout",
     "output_type": "stream",
     "text": [
      "\n"
     ]
    },
    {
     "data": {
      "application/vnd.jupyter.widget-view+json": {
       "model_id": "1702363e6ee04f98acf84dadcae681d9",
       "version_major": 2,
       "version_minor": 0
      },
      "text/plain": [
       "HBox(children=(HTML(value=''), FloatProgress(value=0.0, max=189726.0), HTML(value='')))"
      ]
     },
     "metadata": {},
     "output_type": "display_data"
    },
    {
     "name": "stdout",
     "output_type": "stream",
     "text": [
      "\n"
     ]
    },
    {
     "data": {
      "application/vnd.jupyter.widget-view+json": {
       "model_id": "d76d14cfa83d4c888de89f0810ade97f",
       "version_major": 2,
       "version_minor": 0
      },
      "text/plain": [
       "HBox(children=(HTML(value=''), FloatProgress(value=0.0, max=15.0), HTML(value='')))"
      ]
     },
     "metadata": {},
     "output_type": "display_data"
    },
    {
     "name": "stdout",
     "output_type": "stream",
     "text": [
      "\n"
     ]
    },
    {
     "data": {
      "application/vnd.jupyter.widget-view+json": {
       "model_id": "a42a0a72036b4421b84a5d11c5ba237a",
       "version_major": 2,
       "version_minor": 0
      },
      "text/plain": [
       "HBox(children=(HTML(value=''), FloatProgress(value=0.0, max=189726.0), HTML(value='')))"
      ]
     },
     "metadata": {},
     "output_type": "display_data"
    },
    {
     "name": "stdout",
     "output_type": "stream",
     "text": [
      "\n"
     ]
    },
    {
     "data": {
      "application/vnd.jupyter.widget-view+json": {
       "model_id": "1e38bbf4db0c40bcb299ef72f3d07174",
       "version_major": 2,
       "version_minor": 0
      },
      "text/plain": [
       "HBox(children=(HTML(value=''), FloatProgress(value=0.0, max=15.0), HTML(value='')))"
      ]
     },
     "metadata": {},
     "output_type": "display_data"
    },
    {
     "name": "stdout",
     "output_type": "stream",
     "text": [
      "\n"
     ]
    },
    {
     "data": {
      "application/vnd.jupyter.widget-view+json": {
       "model_id": "b0b53317bf4b48b1a5052e5ec9b584f1",
       "version_major": 2,
       "version_minor": 0
      },
      "text/plain": [
       "HBox(children=(HTML(value=''), FloatProgress(value=0.0, max=189726.0), HTML(value='')))"
      ]
     },
     "metadata": {},
     "output_type": "display_data"
    },
    {
     "name": "stdout",
     "output_type": "stream",
     "text": [
      "\n"
     ]
    },
    {
     "data": {
      "application/vnd.jupyter.widget-view+json": {
       "model_id": "c69c5dc525814a30a9129464aaa4c675",
       "version_major": 2,
       "version_minor": 0
      },
      "text/plain": [
       "HBox(children=(HTML(value=''), FloatProgress(value=0.0, max=15.0), HTML(value='')))"
      ]
     },
     "metadata": {},
     "output_type": "display_data"
    },
    {
     "name": "stdout",
     "output_type": "stream",
     "text": [
      "\n"
     ]
    },
    {
     "data": {
      "application/vnd.jupyter.widget-view+json": {
       "model_id": "944a8eab27894a50b8ae8d736232604b",
       "version_major": 2,
       "version_minor": 0
      },
      "text/plain": [
       "HBox(children=(HTML(value=''), FloatProgress(value=0.0, max=189726.0), HTML(value='')))"
      ]
     },
     "metadata": {},
     "output_type": "display_data"
    },
    {
     "name": "stdout",
     "output_type": "stream",
     "text": [
      "\n"
     ]
    },
    {
     "data": {
      "application/vnd.jupyter.widget-view+json": {
       "model_id": "4b102ce31111499d9e59aae12c2923e9",
       "version_major": 2,
       "version_minor": 0
      },
      "text/plain": [
       "HBox(children=(HTML(value=''), FloatProgress(value=0.0, max=15.0), HTML(value='')))"
      ]
     },
     "metadata": {},
     "output_type": "display_data"
    },
    {
     "name": "stdout",
     "output_type": "stream",
     "text": [
      "\n"
     ]
    },
    {
     "data": {
      "application/vnd.jupyter.widget-view+json": {
       "model_id": "7935aa2bd419400e89dde0208f36f7a9",
       "version_major": 2,
       "version_minor": 0
      },
      "text/plain": [
       "HBox(children=(HTML(value=''), FloatProgress(value=0.0, max=189726.0), HTML(value='')))"
      ]
     },
     "metadata": {},
     "output_type": "display_data"
    },
    {
     "name": "stdout",
     "output_type": "stream",
     "text": [
      "\n"
     ]
    },
    {
     "data": {
      "application/vnd.jupyter.widget-view+json": {
       "model_id": "03f85cc756d948a1a603620b655f7dc7",
       "version_major": 2,
       "version_minor": 0
      },
      "text/plain": [
       "HBox(children=(HTML(value=''), FloatProgress(value=0.0, max=15.0), HTML(value='')))"
      ]
     },
     "metadata": {},
     "output_type": "display_data"
    },
    {
     "name": "stdout",
     "output_type": "stream",
     "text": [
      "\n"
     ]
    },
    {
     "data": {
      "application/vnd.jupyter.widget-view+json": {
       "model_id": "2ab80f7dc3624bb894eb1e8d45317dbb",
       "version_major": 2,
       "version_minor": 0
      },
      "text/plain": [
       "HBox(children=(HTML(value=''), FloatProgress(value=0.0, max=189726.0), HTML(value='')))"
      ]
     },
     "metadata": {},
     "output_type": "display_data"
    },
    {
     "name": "stdout",
     "output_type": "stream",
     "text": [
      "\n"
     ]
    },
    {
     "data": {
      "application/vnd.jupyter.widget-view+json": {
       "model_id": "4928da1b4b8e422497b3092df27c2b9c",
       "version_major": 2,
       "version_minor": 0
      },
      "text/plain": [
       "HBox(children=(HTML(value=''), FloatProgress(value=0.0, max=15.0), HTML(value='')))"
      ]
     },
     "metadata": {},
     "output_type": "display_data"
    },
    {
     "name": "stdout",
     "output_type": "stream",
     "text": [
      "\n"
     ]
    },
    {
     "data": {
      "application/vnd.jupyter.widget-view+json": {
       "model_id": "84841db10557463c9df24a32c13916a4",
       "version_major": 2,
       "version_minor": 0
      },
      "text/plain": [
       "HBox(children=(HTML(value=''), FloatProgress(value=0.0, max=189726.0), HTML(value='')))"
      ]
     },
     "metadata": {},
     "output_type": "display_data"
    },
    {
     "name": "stdout",
     "output_type": "stream",
     "text": [
      "\n",
      "Wall time: 52min 10s\n"
     ]
    }
   ],
   "source": [
    "%%time\n",
    "facts=list(range(5,65,5))\n",
    "facts_map=[]\n",
    "for i in facts:\n",
    "    alpha_val = 40\n",
    "    data_conf = (item_user * alpha_val).astype('double')\n",
    "\n",
    "    train, test = train_test_split(data_conf,train_percentage=0.8)\n",
    "    model = AlternatingLeastSquares(factors=i,regularization=0.1,iterations=15)\n",
    "    model.fit(train)\n",
    "    metrics = ranking_metrics_at_k(model, train.T, test.T, K=20)\n",
    "    facts_map.append(metrics['map'])"
   ]
  },
  {
   "cell_type": "code",
   "execution_count": 37,
   "metadata": {
    "collapsed": true,
    "jupyter": {
     "outputs_hidden": true
    }
   },
   "outputs": [
    {
     "data": {
      "application/vnd.jupyter.widget-view+json": {
       "model_id": "47fd1913c814491b88848bdb1391dafe",
       "version_major": 2,
       "version_minor": 0
      },
      "text/plain": [
       "HBox(children=(HTML(value=''), FloatProgress(value=0.0, max=15.0), HTML(value='')))"
      ]
     },
     "metadata": {},
     "output_type": "display_data"
    },
    {
     "name": "stdout",
     "output_type": "stream",
     "text": [
      "\n"
     ]
    },
    {
     "data": {
      "application/vnd.jupyter.widget-view+json": {
       "model_id": "ab34f77372274993b793fe4f27bc40a1",
       "version_major": 2,
       "version_minor": 0
      },
      "text/plain": [
       "HBox(children=(HTML(value=''), FloatProgress(value=0.0, max=189726.0), HTML(value='')))"
      ]
     },
     "metadata": {},
     "output_type": "display_data"
    },
    {
     "name": "stdout",
     "output_type": "stream",
     "text": [
      "\n"
     ]
    },
    {
     "data": {
      "application/vnd.jupyter.widget-view+json": {
       "model_id": "82768f22d59046c884fa3deb9ca9c56b",
       "version_major": 2,
       "version_minor": 0
      },
      "text/plain": [
       "HBox(children=(HTML(value=''), FloatProgress(value=0.0, max=15.0), HTML(value='')))"
      ]
     },
     "metadata": {},
     "output_type": "display_data"
    },
    {
     "name": "stdout",
     "output_type": "stream",
     "text": [
      "\n"
     ]
    },
    {
     "data": {
      "application/vnd.jupyter.widget-view+json": {
       "model_id": "23f1d85fdc6e413fa5366e672cd62c1a",
       "version_major": 2,
       "version_minor": 0
      },
      "text/plain": [
       "HBox(children=(HTML(value=''), FloatProgress(value=0.0, max=189726.0), HTML(value='')))"
      ]
     },
     "metadata": {},
     "output_type": "display_data"
    },
    {
     "name": "stdout",
     "output_type": "stream",
     "text": [
      "\n"
     ]
    },
    {
     "data": {
      "application/vnd.jupyter.widget-view+json": {
       "model_id": "f6be005c068b409f8251becd4af2b228",
       "version_major": 2,
       "version_minor": 0
      },
      "text/plain": [
       "HBox(children=(HTML(value=''), FloatProgress(value=0.0, max=15.0), HTML(value='')))"
      ]
     },
     "metadata": {},
     "output_type": "display_data"
    },
    {
     "name": "stdout",
     "output_type": "stream",
     "text": [
      "\n"
     ]
    },
    {
     "data": {
      "application/vnd.jupyter.widget-view+json": {
       "model_id": "39f6d03410534f13b7d5a624782ed697",
       "version_major": 2,
       "version_minor": 0
      },
      "text/plain": [
       "HBox(children=(HTML(value=''), FloatProgress(value=0.0, max=189726.0), HTML(value='')))"
      ]
     },
     "metadata": {},
     "output_type": "display_data"
    },
    {
     "name": "stdout",
     "output_type": "stream",
     "text": [
      "\n"
     ]
    },
    {
     "data": {
      "application/vnd.jupyter.widget-view+json": {
       "model_id": "81e4eebccd7541a2bc3349c37e5a35fe",
       "version_major": 2,
       "version_minor": 0
      },
      "text/plain": [
       "HBox(children=(HTML(value=''), FloatProgress(value=0.0, max=15.0), HTML(value='')))"
      ]
     },
     "metadata": {},
     "output_type": "display_data"
    },
    {
     "name": "stdout",
     "output_type": "stream",
     "text": [
      "\n"
     ]
    },
    {
     "data": {
      "application/vnd.jupyter.widget-view+json": {
       "model_id": "0399eb953bc04ad2bcee2cd219c1178e",
       "version_major": 2,
       "version_minor": 0
      },
      "text/plain": [
       "HBox(children=(HTML(value=''), FloatProgress(value=0.0, max=189726.0), HTML(value='')))"
      ]
     },
     "metadata": {},
     "output_type": "display_data"
    },
    {
     "name": "stdout",
     "output_type": "stream",
     "text": [
      "\n"
     ]
    },
    {
     "data": {
      "application/vnd.jupyter.widget-view+json": {
       "model_id": "bef7133fe0934c1eba9589dc667def57",
       "version_major": 2,
       "version_minor": 0
      },
      "text/plain": [
       "HBox(children=(HTML(value=''), FloatProgress(value=0.0, max=15.0), HTML(value='')))"
      ]
     },
     "metadata": {},
     "output_type": "display_data"
    },
    {
     "name": "stdout",
     "output_type": "stream",
     "text": [
      "\n"
     ]
    },
    {
     "data": {
      "application/vnd.jupyter.widget-view+json": {
       "model_id": "c2972af13ff44188ba4460801782823e",
       "version_major": 2,
       "version_minor": 0
      },
      "text/plain": [
       "HBox(children=(HTML(value=''), FloatProgress(value=0.0, max=189726.0), HTML(value='')))"
      ]
     },
     "metadata": {},
     "output_type": "display_data"
    },
    {
     "name": "stdout",
     "output_type": "stream",
     "text": [
      "\n"
     ]
    },
    {
     "data": {
      "application/vnd.jupyter.widget-view+json": {
       "model_id": "fe1b03c2dab2438b9990b0231a63bdc0",
       "version_major": 2,
       "version_minor": 0
      },
      "text/plain": [
       "HBox(children=(HTML(value=''), FloatProgress(value=0.0, max=15.0), HTML(value='')))"
      ]
     },
     "metadata": {},
     "output_type": "display_data"
    },
    {
     "name": "stdout",
     "output_type": "stream",
     "text": [
      "\n"
     ]
    },
    {
     "data": {
      "application/vnd.jupyter.widget-view+json": {
       "model_id": "4636504da8284bbf8ab9b4cc4c6f1780",
       "version_major": 2,
       "version_minor": 0
      },
      "text/plain": [
       "HBox(children=(HTML(value=''), FloatProgress(value=0.0, max=189726.0), HTML(value='')))"
      ]
     },
     "metadata": {},
     "output_type": "display_data"
    },
    {
     "name": "stdout",
     "output_type": "stream",
     "text": [
      "\n"
     ]
    },
    {
     "data": {
      "application/vnd.jupyter.widget-view+json": {
       "model_id": "8fd4623fbf604d2e9c07757f1d085314",
       "version_major": 2,
       "version_minor": 0
      },
      "text/plain": [
       "HBox(children=(HTML(value=''), FloatProgress(value=0.0, max=15.0), HTML(value='')))"
      ]
     },
     "metadata": {},
     "output_type": "display_data"
    },
    {
     "name": "stdout",
     "output_type": "stream",
     "text": [
      "\n"
     ]
    },
    {
     "data": {
      "application/vnd.jupyter.widget-view+json": {
       "model_id": "f83cd66e94ed4765b0790118760d9b44",
       "version_major": 2,
       "version_minor": 0
      },
      "text/plain": [
       "HBox(children=(HTML(value=''), FloatProgress(value=0.0, max=189726.0), HTML(value='')))"
      ]
     },
     "metadata": {},
     "output_type": "display_data"
    },
    {
     "name": "stdout",
     "output_type": "stream",
     "text": [
      "\n"
     ]
    },
    {
     "data": {
      "application/vnd.jupyter.widget-view+json": {
       "model_id": "f30e842de99a437eae244581dd0b45b5",
       "version_major": 2,
       "version_minor": 0
      },
      "text/plain": [
       "HBox(children=(HTML(value=''), FloatProgress(value=0.0, max=15.0), HTML(value='')))"
      ]
     },
     "metadata": {},
     "output_type": "display_data"
    },
    {
     "name": "stdout",
     "output_type": "stream",
     "text": [
      "\n"
     ]
    },
    {
     "data": {
      "application/vnd.jupyter.widget-view+json": {
       "model_id": "18c756cf7c734c579f0c22c36d9ce481",
       "version_major": 2,
       "version_minor": 0
      },
      "text/plain": [
       "HBox(children=(HTML(value=''), FloatProgress(value=0.0, max=189726.0), HTML(value='')))"
      ]
     },
     "metadata": {},
     "output_type": "display_data"
    },
    {
     "name": "stdout",
     "output_type": "stream",
     "text": [
      "\n"
     ]
    },
    {
     "data": {
      "application/vnd.jupyter.widget-view+json": {
       "model_id": "ae7ac543f7e84e289d667a521625e4da",
       "version_major": 2,
       "version_minor": 0
      },
      "text/plain": [
       "HBox(children=(HTML(value=''), FloatProgress(value=0.0, max=15.0), HTML(value='')))"
      ]
     },
     "metadata": {},
     "output_type": "display_data"
    },
    {
     "name": "stdout",
     "output_type": "stream",
     "text": [
      "\n"
     ]
    },
    {
     "data": {
      "application/vnd.jupyter.widget-view+json": {
       "model_id": "aa0c4cabff454ffc8e09e0ece0327b99",
       "version_major": 2,
       "version_minor": 0
      },
      "text/plain": [
       "HBox(children=(HTML(value=''), FloatProgress(value=0.0, max=189726.0), HTML(value='')))"
      ]
     },
     "metadata": {},
     "output_type": "display_data"
    },
    {
     "name": "stdout",
     "output_type": "stream",
     "text": [
      "\n"
     ]
    },
    {
     "data": {
      "application/vnd.jupyter.widget-view+json": {
       "model_id": "df7dfab661404396ba9c9f8249d4d21b",
       "version_major": 2,
       "version_minor": 0
      },
      "text/plain": [
       "HBox(children=(HTML(value=''), FloatProgress(value=0.0, max=15.0), HTML(value='')))"
      ]
     },
     "metadata": {},
     "output_type": "display_data"
    },
    {
     "name": "stdout",
     "output_type": "stream",
     "text": [
      "\n"
     ]
    },
    {
     "data": {
      "application/vnd.jupyter.widget-view+json": {
       "model_id": "2576533ae8ae4f8382a479bcc9354b8b",
       "version_major": 2,
       "version_minor": 0
      },
      "text/plain": [
       "HBox(children=(HTML(value=''), FloatProgress(value=0.0, max=189726.0), HTML(value='')))"
      ]
     },
     "metadata": {},
     "output_type": "display_data"
    },
    {
     "name": "stdout",
     "output_type": "stream",
     "text": [
      "\n"
     ]
    },
    {
     "data": {
      "application/vnd.jupyter.widget-view+json": {
       "model_id": "82179eaadb604ea89d2570ff46d4d5f6",
       "version_major": 2,
       "version_minor": 0
      },
      "text/plain": [
       "HBox(children=(HTML(value=''), FloatProgress(value=0.0, max=15.0), HTML(value='')))"
      ]
     },
     "metadata": {},
     "output_type": "display_data"
    },
    {
     "name": "stdout",
     "output_type": "stream",
     "text": [
      "\n"
     ]
    },
    {
     "data": {
      "application/vnd.jupyter.widget-view+json": {
       "model_id": "ac3504526db7417e97e97af56b46742c",
       "version_major": 2,
       "version_minor": 0
      },
      "text/plain": [
       "HBox(children=(HTML(value=''), FloatProgress(value=0.0, max=189726.0), HTML(value='')))"
      ]
     },
     "metadata": {},
     "output_type": "display_data"
    },
    {
     "name": "stdout",
     "output_type": "stream",
     "text": [
      "\n"
     ]
    },
    {
     "data": {
      "application/vnd.jupyter.widget-view+json": {
       "model_id": "530b2d52d07d45ddb682e972869eef0d",
       "version_major": 2,
       "version_minor": 0
      },
      "text/plain": [
       "HBox(children=(HTML(value=''), FloatProgress(value=0.0, max=15.0), HTML(value='')))"
      ]
     },
     "metadata": {},
     "output_type": "display_data"
    },
    {
     "name": "stdout",
     "output_type": "stream",
     "text": [
      "\n"
     ]
    },
    {
     "data": {
      "application/vnd.jupyter.widget-view+json": {
       "model_id": "9fe648c07071401f927ebefd50f28606",
       "version_major": 2,
       "version_minor": 0
      },
      "text/plain": [
       "HBox(children=(HTML(value=''), FloatProgress(value=0.0, max=189726.0), HTML(value='')))"
      ]
     },
     "metadata": {},
     "output_type": "display_data"
    },
    {
     "name": "stdout",
     "output_type": "stream",
     "text": [
      "\n",
      "Wall time: 1h 23min 47s\n"
     ]
    }
   ],
   "source": [
    "%%time\n",
    "alpha=list(range(5,65,5))\n",
    "alpha_map=[]\n",
    "for i in alpha:\n",
    "    alpha_val = i\n",
    "    data_conf = (item_user * alpha_val).astype('double')\n",
    "    train, test = train_test_split(data_conf,train_percentage=0.8)\n",
    "    model = AlternatingLeastSquares(factors=20,regularization=0.1,iterations=15)\n",
    "    model.fit(train)\n",
    "    metrics = ranking_metrics_at_k(model, train.T, test.T, K=20)\n",
    "    alpha_map.append(metrics['map'])"
   ]
  },
  {
   "cell_type": "code",
   "execution_count": 38,
   "metadata": {},
   "outputs": [
    {
     "data": {
      "image/png": "[encoded data removed]",
      "text/plain": [
       "<Figure size 1440x864 with 4 Axes>"
      ]
     },
     "metadata": {},
     "output_type": "display_data"
    }
   ],
   "source": [
    "fig = plt.figure(figsize = (10*2,6*2))\n",
    "\n",
    "plt.subplot(2,2,1)\n",
    "plt.plot(itera,iter_map,marker='^',markersize=10)\n",
    "plt.xlabel('iterations',fontsize=16)\n",
    "plt.ylabel('MAP',fontsize=16)\n",
    "plt.title('MAP según variación de iterations',fontsize=20)\n",
    "\n",
    "plt.subplot(2,2,2)\n",
    "plt.plot(facts,facts_map,marker='^',markersize=10)\n",
    "plt.xlabel('factors',fontsize=16)\n",
    "plt.ylabel('MAP',fontsize=16)\n",
    "plt.title('MAP según variación de factors',fontsize=20)\n",
    "\n",
    "plt.subplot(2,2,3)\n",
    "plt.plot(regs,regs_map,marker='^',markersize=10)\n",
    "plt.xlabel('regularization',fontsize=16)\n",
    "plt.ylabel('MAP',fontsize=16)\n",
    "plt.title('MAP según variación de regularization',fontsize=20)\n",
    "               \n",
    "plt.subplot(2,2,4)\n",
    "plt.plot(alpha,alpha_map,marker='^',markersize=10)\n",
    "plt.xlabel('alpha',fontsize=16)\n",
    "plt.ylabel('MAP',fontsize=16)\n",
    "plt.title('MAP según variación de alpha',fontsize=20)\n",
    "\n",
    "plt.show()"
   ]
  },
  {
   "cell_type": "markdown",
   "metadata": {},
   "source": [
    "A partir de estos resultados se acotarán las posibilidades de los hiperparametros y se realizara un ciclo probando todas las opciones posibles para obtener el mayor valor de la métrica. \n",
    "\n",
    "En cuanto a los hiperparametros se definió:\n",
    "* Las `iteraciones`, como se observa en el gráfico, a partir de cierto valor tiende a mantenerse constante por lo que se definió que se mantendrá constante en el valor 40.\n",
    "* los `factores` a partir de cierto valor tiene una tendencia decreciente por lo que se mantendrá en el mayor valor que es 20.\n",
    "* El valor `alpha` parece que tiene una tendencia decreciente a mayores valores por lo que se acotara entre 20 y 40 con un paso de 2.\n",
    "* La `regularizacion` es la variable más irregular por lo que se mantendrá las opciones que se evaluaron anteriormente."
   ]
  },
  {
   "cell_type": "code",
   "execution_count": 39,
   "metadata": {
    "collapsed": true,
    "jupyter": {
     "outputs_hidden": true
    }
   },
   "outputs": [
    {
     "data": {
      "application/vnd.jupyter.widget-view+json": {
       "model_id": "1f69557701eb44fc9f0236def6560be4",
       "version_major": 2,
       "version_minor": 0
      },
      "text/plain": [
       "HBox(children=(HTML(value=''), FloatProgress(value=0.0, max=40.0), HTML(value='')))"
      ]
     },
     "metadata": {},
     "output_type": "display_data"
    },
    {
     "name": "stdout",
     "output_type": "stream",
     "text": [
      "\n"
     ]
    },
    {
     "data": {
      "application/vnd.jupyter.widget-view+json": {
       "model_id": "28adc32ec29c480db86f148e827c27c1",
       "version_major": 2,
       "version_minor": 0
      },
      "text/plain": [
       "HBox(children=(HTML(value=''), FloatProgress(value=0.0, max=189726.0), HTML(value='')))"
      ]
     },
     "metadata": {},
     "output_type": "display_data"
    },
    {
     "name": "stdout",
     "output_type": "stream",
     "text": [
      "\n"
     ]
    },
    {
     "data": {
      "application/vnd.jupyter.widget-view+json": {
       "model_id": "38769b9eb55e47ada195b22b34dcf0b2",
       "version_major": 2,
       "version_minor": 0
      },
      "text/plain": [
       "HBox(children=(HTML(value=''), FloatProgress(value=0.0, max=40.0), HTML(value='')))"
      ]
     },
     "metadata": {},
     "output_type": "display_data"
    },
    {
     "name": "stdout",
     "output_type": "stream",
     "text": [
      "\n"
     ]
    },
    {
     "data": {
      "application/vnd.jupyter.widget-view+json": {
       "model_id": "149cad7fe1df454d983ed762492f3162",
       "version_major": 2,
       "version_minor": 0
      },
      "text/plain": [
       "HBox(children=(HTML(value=''), FloatProgress(value=0.0, max=189726.0), HTML(value='')))"
      ]
     },
     "metadata": {},
     "output_type": "display_data"
    },
    {
     "name": "stdout",
     "output_type": "stream",
     "text": [
      "\n"
     ]
    },
    {
     "data": {
      "application/vnd.jupyter.widget-view+json": {
       "model_id": "72679951e67a4ca0a6927e877e76a1d5",
       "version_major": 2,
       "version_minor": 0
      },
      "text/plain": [
       "HBox(children=(HTML(value=''), FloatProgress(value=0.0, max=40.0), HTML(value='')))"
      ]
     },
     "metadata": {},
     "output_type": "display_data"
    },
    {
     "name": "stdout",
     "output_type": "stream",
     "text": [
      "\n"
     ]
    },
    {
     "data": {
      "application/vnd.jupyter.widget-view+json": {
       "model_id": "342d48780b434c74b15a3a3c71f55529",
       "version_major": 2,
       "version_minor": 0
      },
      "text/plain": [
       "HBox(children=(HTML(value=''), FloatProgress(value=0.0, max=189726.0), HTML(value='')))"
      ]
     },
     "metadata": {},
     "output_type": "display_data"
    },
    {
     "name": "stdout",
     "output_type": "stream",
     "text": [
      "\n"
     ]
    },
    {
     "data": {
      "application/vnd.jupyter.widget-view+json": {
       "model_id": "6bc2bfd0ddf446fbac54be4fd229136f",
       "version_major": 2,
       "version_minor": 0
      },
      "text/plain": [
       "HBox(children=(HTML(value=''), FloatProgress(value=0.0, max=40.0), HTML(value='')))"
      ]
     },
     "metadata": {},
     "output_type": "display_data"
    },
    {
     "name": "stdout",
     "output_type": "stream",
     "text": [
      "\n"
     ]
    },
    {
     "data": {
      "application/vnd.jupyter.widget-view+json": {
       "model_id": "b64f8fce8b9144688d1f14239b255fdc",
       "version_major": 2,
       "version_minor": 0
      },
      "text/plain": [
       "HBox(children=(HTML(value=''), FloatProgress(value=0.0, max=189726.0), HTML(value='')))"
      ]
     },
     "metadata": {},
     "output_type": "display_data"
    },
    {
     "name": "stdout",
     "output_type": "stream",
     "text": [
      "\n"
     ]
    },
    {
     "data": {
      "application/vnd.jupyter.widget-view+json": {
       "model_id": "c46b582613b34b93808fc6b5332bce67",
       "version_major": 2,
       "version_minor": 0
      },
      "text/plain": [
       "HBox(children=(HTML(value=''), FloatProgress(value=0.0, max=40.0), HTML(value='')))"
      ]
     },
     "metadata": {},
     "output_type": "display_data"
    },
    {
     "name": "stdout",
     "output_type": "stream",
     "text": [
      "\n"
     ]
    },
    {
     "data": {
      "application/vnd.jupyter.widget-view+json": {
       "model_id": "8df72ec707594d248a9b4eff05667a66",
       "version_major": 2,
       "version_minor": 0
      },
      "text/plain": [
       "HBox(children=(HTML(value=''), FloatProgress(value=0.0, max=189726.0), HTML(value='')))"
      ]
     },
     "metadata": {},
     "output_type": "display_data"
    },
    {
     "name": "stdout",
     "output_type": "stream",
     "text": [
      "\n"
     ]
    },
    {
     "data": {
      "application/vnd.jupyter.widget-view+json": {
       "model_id": "51284f370adb4cc693a29b489f58654d",
       "version_major": 2,
       "version_minor": 0
      },
      "text/plain": [
       "HBox(children=(HTML(value=''), FloatProgress(value=0.0, max=40.0), HTML(value='')))"
      ]
     },
     "metadata": {},
     "output_type": "display_data"
    },
    {
     "name": "stdout",
     "output_type": "stream",
     "text": [
      "\n"
     ]
    },
    {
     "data": {
      "application/vnd.jupyter.widget-view+json": {
       "model_id": "4417cc103c064dc49f5382c04d0aed0b",
       "version_major": 2,
       "version_minor": 0
      },
      "text/plain": [
       "HBox(children=(HTML(value=''), FloatProgress(value=0.0, max=189726.0), HTML(value='')))"
      ]
     },
     "metadata": {},
     "output_type": "display_data"
    },
    {
     "name": "stdout",
     "output_type": "stream",
     "text": [
      "\n"
     ]
    },
    {
     "data": {
      "application/vnd.jupyter.widget-view+json": {
       "model_id": "cb154e71c0314ae4b847d2f3e006584a",
       "version_major": 2,
       "version_minor": 0
      },
      "text/plain": [
       "HBox(children=(HTML(value=''), FloatProgress(value=0.0, max=40.0), HTML(value='')))"
      ]
     },
     "metadata": {},
     "output_type": "display_data"
    },
    {
     "name": "stdout",
     "output_type": "stream",
     "text": [
      "\n"
     ]
    },
    {
     "data": {
      "application/vnd.jupyter.widget-view+json": {
       "model_id": "3bdd85dfdcda4b29a6a20401815c99d9",
       "version_major": 2,
       "version_minor": 0
      },
      "text/plain": [
       "HBox(children=(HTML(value=''), FloatProgress(value=0.0, max=189726.0), HTML(value='')))"
      ]
     },
     "metadata": {},
     "output_type": "display_data"
    },
    {
     "name": "stdout",
     "output_type": "stream",
     "text": [
      "\n"
     ]
    },
    {
     "data": {
      "application/vnd.jupyter.widget-view+json": {
       "model_id": "979b3d440ace423fb340a0e6ac742dce",
       "version_major": 2,
       "version_minor": 0
      },
      "text/plain": [
       "HBox(children=(HTML(value=''), FloatProgress(value=0.0, max=40.0), HTML(value='')))"
      ]
     },
     "metadata": {},
     "output_type": "display_data"
    },
    {
     "name": "stdout",
     "output_type": "stream",
     "text": [
      "\n"
     ]
    },
    {
     "data": {
      "application/vnd.jupyter.widget-view+json": {
       "model_id": "b8535e5af5384ad4ab4f7ec44991521a",
       "version_major": 2,
       "version_minor": 0
      },
      "text/plain": [
       "HBox(children=(HTML(value=''), FloatProgress(value=0.0, max=189726.0), HTML(value='')))"
      ]
     },
     "metadata": {},
     "output_type": "display_data"
    },
    {
     "name": "stdout",
     "output_type": "stream",
     "text": [
      "\n"
     ]
    },
    {
     "data": {
      "application/vnd.jupyter.widget-view+json": {
       "model_id": "56c89dc35ac94b8ba97dced8767cff95",
       "version_major": 2,
       "version_minor": 0
      },
      "text/plain": [
       "HBox(children=(HTML(value=''), FloatProgress(value=0.0, max=40.0), HTML(value='')))"
      ]
     },
     "metadata": {},
     "output_type": "display_data"
    },
    {
     "name": "stdout",
     "output_type": "stream",
     "text": [
      "\n"
     ]
    },
    {
     "data": {
      "application/vnd.jupyter.widget-view+json": {
       "model_id": "3c32d5a84b2e4da8b9785e8c6cd6434f",
       "version_major": 2,
       "version_minor": 0
      },
      "text/plain": [
       "HBox(children=(HTML(value=''), FloatProgress(value=0.0, max=189726.0), HTML(value='')))"
      ]
     },
     "metadata": {},
     "output_type": "display_data"
    },
    {
     "name": "stdout",
     "output_type": "stream",
     "text": [
      "\n"
     ]
    },
    {
     "data": {
      "application/vnd.jupyter.widget-view+json": {
       "model_id": "3e21aab6ff0e4456910dbd3bec44529d",
       "version_major": 2,
       "version_minor": 0
      },
      "text/plain": [
       "HBox(children=(HTML(value=''), FloatProgress(value=0.0, max=40.0), HTML(value='')))"
      ]
     },
     "metadata": {},
     "output_type": "display_data"
    },
    {
     "name": "stdout",
     "output_type": "stream",
     "text": [
      "\n"
     ]
    },
    {
     "data": {
      "application/vnd.jupyter.widget-view+json": {
       "model_id": "b47c415f39604c5894441051e338223f",
       "version_major": 2,
       "version_minor": 0
      },
      "text/plain": [
       "HBox(children=(HTML(value=''), FloatProgress(value=0.0, max=189726.0), HTML(value='')))"
      ]
     },
     "metadata": {},
     "output_type": "display_data"
    },
    {
     "name": "stdout",
     "output_type": "stream",
     "text": [
      "\n"
     ]
    },
    {
     "data": {
      "application/vnd.jupyter.widget-view+json": {
       "model_id": "9b923def273c4c66a65004da925daf47",
       "version_major": 2,
       "version_minor": 0
      },
      "text/plain": [
       "HBox(children=(HTML(value=''), FloatProgress(value=0.0, max=40.0), HTML(value='')))"
      ]
     },
     "metadata": {},
     "output_type": "display_data"
    },
    {
     "name": "stdout",
     "output_type": "stream",
     "text": [
      "\n"
     ]
    },
    {
     "data": {
      "application/vnd.jupyter.widget-view+json": {
       "model_id": "28ab78d81ff148efb9661039e407390b",
       "version_major": 2,
       "version_minor": 0
      },
      "text/plain": [
       "HBox(children=(HTML(value=''), FloatProgress(value=0.0, max=189726.0), HTML(value='')))"
      ]
     },
     "metadata": {},
     "output_type": "display_data"
    },
    {
     "name": "stdout",
     "output_type": "stream",
     "text": [
      "\n"
     ]
    },
    {
     "data": {
      "application/vnd.jupyter.widget-view+json": {
       "model_id": "54c8ec98409b4d4d9385b127b4e8779c",
       "version_major": 2,
       "version_minor": 0
      },
      "text/plain": [
       "HBox(children=(HTML(value=''), FloatProgress(value=0.0, max=40.0), HTML(value='')))"
      ]
     },
     "metadata": {},
     "output_type": "display_data"
    },
    {
     "name": "stdout",
     "output_type": "stream",
     "text": [
      "\n"
     ]
    },
    {
     "data": {
      "application/vnd.jupyter.widget-view+json": {
       "model_id": "32de6f70840d48e38ff3dffdf094cf37",
       "version_major": 2,
       "version_minor": 0
      },
      "text/plain": [
       "HBox(children=(HTML(value=''), FloatProgress(value=0.0, max=189726.0), HTML(value='')))"
      ]
     },
     "metadata": {},
     "output_type": "display_data"
    },
    {
     "name": "stdout",
     "output_type": "stream",
     "text": [
      "\n"
     ]
    },
    {
     "data": {
      "application/vnd.jupyter.widget-view+json": {
       "model_id": "077f02d0c3e54069ade2512126007cc8",
       "version_major": 2,
       "version_minor": 0
      },
      "text/plain": [
       "HBox(children=(HTML(value=''), FloatProgress(value=0.0, max=40.0), HTML(value='')))"
      ]
     },
     "metadata": {},
     "output_type": "display_data"
    },
    {
     "name": "stdout",
     "output_type": "stream",
     "text": [
      "\n"
     ]
    },
    {
     "data": {
      "application/vnd.jupyter.widget-view+json": {
       "model_id": "6b4fa2be2aad4319819712c66647478c",
       "version_major": 2,
       "version_minor": 0
      },
      "text/plain": [
       "HBox(children=(HTML(value=''), FloatProgress(value=0.0, max=189726.0), HTML(value='')))"
      ]
     },
     "metadata": {},
     "output_type": "display_data"
    },
    {
     "name": "stdout",
     "output_type": "stream",
     "text": [
      "\n"
     ]
    },
    {
     "data": {
      "application/vnd.jupyter.widget-view+json": {
       "model_id": "8d3e1f8552e5481a8b6db2aef5cc2124",
       "version_major": 2,
       "version_minor": 0
      },
      "text/plain": [
       "HBox(children=(HTML(value=''), FloatProgress(value=0.0, max=40.0), HTML(value='')))"
      ]
     },
     "metadata": {},
     "output_type": "display_data"
    },
    {
     "name": "stdout",
     "output_type": "stream",
     "text": [
      "\n"
     ]
    },
    {
     "data": {
      "application/vnd.jupyter.widget-view+json": {
       "model_id": "103faa1e32ea4c059570fdc7cf8c484f",
       "version_major": 2,
       "version_minor": 0
      },
      "text/plain": [
       "HBox(children=(HTML(value=''), FloatProgress(value=0.0, max=189726.0), HTML(value='')))"
      ]
     },
     "metadata": {},
     "output_type": "display_data"
    },
    {
     "name": "stdout",
     "output_type": "stream",
     "text": [
      "\n"
     ]
    },
    {
     "data": {
      "application/vnd.jupyter.widget-view+json": {
       "model_id": "cbc3eab91c0848509131c21656a787eb",
       "version_major": 2,
       "version_minor": 0
      },
      "text/plain": [
       "HBox(children=(HTML(value=''), FloatProgress(value=0.0, max=40.0), HTML(value='')))"
      ]
     },
     "metadata": {},
     "output_type": "display_data"
    },
    {
     "name": "stdout",
     "output_type": "stream",
     "text": [
      "\n"
     ]
    },
    {
     "data": {
      "application/vnd.jupyter.widget-view+json": {
       "model_id": "281401aa5ccd4875a5f03e47c066d913",
       "version_major": 2,
       "version_minor": 0
      },
      "text/plain": [
       "HBox(children=(HTML(value=''), FloatProgress(value=0.0, max=189726.0), HTML(value='')))"
      ]
     },
     "metadata": {},
     "output_type": "display_data"
    },
    {
     "name": "stdout",
     "output_type": "stream",
     "text": [
      "\n"
     ]
    },
    {
     "data": {
      "application/vnd.jupyter.widget-view+json": {
       "model_id": "265db5a91c4a44c39520984f23f6af2c",
       "version_major": 2,
       "version_minor": 0
      },
      "text/plain": [
       "HBox(children=(HTML(value=''), FloatProgress(value=0.0, max=40.0), HTML(value='')))"
      ]
     },
     "metadata": {},
     "output_type": "display_data"
    },
    {
     "name": "stdout",
     "output_type": "stream",
     "text": [
      "\n"
     ]
    },
    {
     "data": {
      "application/vnd.jupyter.widget-view+json": {
       "model_id": "b77a5e4b5ec84a25b6eec8732590e613",
       "version_major": 2,
       "version_minor": 0
      },
      "text/plain": [
       "HBox(children=(HTML(value=''), FloatProgress(value=0.0, max=189726.0), HTML(value='')))"
      ]
     },
     "metadata": {},
     "output_type": "display_data"
    },
    {
     "name": "stdout",
     "output_type": "stream",
     "text": [
      "\n"
     ]
    },
    {
     "data": {
      "application/vnd.jupyter.widget-view+json": {
       "model_id": "1e5538a8c97f40d293a15d99452b980b",
       "version_major": 2,
       "version_minor": 0
      },
      "text/plain": [
       "HBox(children=(HTML(value=''), FloatProgress(value=0.0, max=40.0), HTML(value='')))"
      ]
     },
     "metadata": {},
     "output_type": "display_data"
    },
    {
     "name": "stdout",
     "output_type": "stream",
     "text": [
      "\n"
     ]
    },
    {
     "data": {
      "application/vnd.jupyter.widget-view+json": {
       "model_id": "1b922f9d193c4474917075bb855d649b",
       "version_major": 2,
       "version_minor": 0
      },
      "text/plain": [
       "HBox(children=(HTML(value=''), FloatProgress(value=0.0, max=189726.0), HTML(value='')))"
      ]
     },
     "metadata": {},
     "output_type": "display_data"
    },
    {
     "name": "stdout",
     "output_type": "stream",
     "text": [
      "\n"
     ]
    },
    {
     "data": {
      "application/vnd.jupyter.widget-view+json": {
       "model_id": "936d2188626d4193b629c8cf0499ac9d",
       "version_major": 2,
       "version_minor": 0
      },
      "text/plain": [
       "HBox(children=(HTML(value=''), FloatProgress(value=0.0, max=40.0), HTML(value='')))"
      ]
     },
     "metadata": {},
     "output_type": "display_data"
    },
    {
     "name": "stdout",
     "output_type": "stream",
     "text": [
      "\n"
     ]
    },
    {
     "data": {
      "application/vnd.jupyter.widget-view+json": {
       "model_id": "a5e5f54b1fc948908dd86e3fa4f338b5",
       "version_major": 2,
       "version_minor": 0
      },
      "text/plain": [
       "HBox(children=(HTML(value=''), FloatProgress(value=0.0, max=189726.0), HTML(value='')))"
      ]
     },
     "metadata": {},
     "output_type": "display_data"
    },
    {
     "name": "stdout",
     "output_type": "stream",
     "text": [
      "\n"
     ]
    },
    {
     "data": {
      "application/vnd.jupyter.widget-view+json": {
       "model_id": "421ebe7eb2fe425b83fb369f812d1a5c",
       "version_major": 2,
       "version_minor": 0
      },
      "text/plain": [
       "HBox(children=(HTML(value=''), FloatProgress(value=0.0, max=40.0), HTML(value='')))"
      ]
     },
     "metadata": {},
     "output_type": "display_data"
    },
    {
     "name": "stdout",
     "output_type": "stream",
     "text": [
      "\n"
     ]
    },
    {
     "data": {
      "application/vnd.jupyter.widget-view+json": {
       "model_id": "26ff227a5597438db5f5f4e032325cb2",
       "version_major": 2,
       "version_minor": 0
      },
      "text/plain": [
       "HBox(children=(HTML(value=''), FloatProgress(value=0.0, max=189726.0), HTML(value='')))"
      ]
     },
     "metadata": {},
     "output_type": "display_data"
    },
    {
     "name": "stdout",
     "output_type": "stream",
     "text": [
      "\n"
     ]
    },
    {
     "data": {
      "application/vnd.jupyter.widget-view+json": {
       "model_id": "b289279d0d1743cca55a41e47c670db4",
       "version_major": 2,
       "version_minor": 0
      },
      "text/plain": [
       "HBox(children=(HTML(value=''), FloatProgress(value=0.0, max=40.0), HTML(value='')))"
      ]
     },
     "metadata": {},
     "output_type": "display_data"
    },
    {
     "name": "stdout",
     "output_type": "stream",
     "text": [
      "\n"
     ]
    },
    {
     "data": {
      "application/vnd.jupyter.widget-view+json": {
       "model_id": "d3fd74d3219846a7b678dd2c098d0ee2",
       "version_major": 2,
       "version_minor": 0
      },
      "text/plain": [
       "HBox(children=(HTML(value=''), FloatProgress(value=0.0, max=189726.0), HTML(value='')))"
      ]
     },
     "metadata": {},
     "output_type": "display_data"
    },
    {
     "name": "stdout",
     "output_type": "stream",
     "text": [
      "\n"
     ]
    },
    {
     "data": {
      "application/vnd.jupyter.widget-view+json": {
       "model_id": "4c582b0c8c8045e2a3b0a65bfd9132c0",
       "version_major": 2,
       "version_minor": 0
      },
      "text/plain": [
       "HBox(children=(HTML(value=''), FloatProgress(value=0.0, max=40.0), HTML(value='')))"
      ]
     },
     "metadata": {},
     "output_type": "display_data"
    },
    {
     "name": "stdout",
     "output_type": "stream",
     "text": [
      "\n"
     ]
    },
    {
     "data": {
      "application/vnd.jupyter.widget-view+json": {
       "model_id": "2ecc440f6b494cc6a5d73d072a7306d4",
       "version_major": 2,
       "version_minor": 0
      },
      "text/plain": [
       "HBox(children=(HTML(value=''), FloatProgress(value=0.0, max=189726.0), HTML(value='')))"
      ]
     },
     "metadata": {},
     "output_type": "display_data"
    },
    {
     "name": "stdout",
     "output_type": "stream",
     "text": [
      "\n"
     ]
    },
    {
     "data": {
      "application/vnd.jupyter.widget-view+json": {
       "model_id": "6af614a02f2c486aa9a8e6b26aa1237e",
       "version_major": 2,
       "version_minor": 0
      },
      "text/plain": [
       "HBox(children=(HTML(value=''), FloatProgress(value=0.0, max=40.0), HTML(value='')))"
      ]
     },
     "metadata": {},
     "output_type": "display_data"
    },
    {
     "name": "stdout",
     "output_type": "stream",
     "text": [
      "\n"
     ]
    },
    {
     "data": {
      "application/vnd.jupyter.widget-view+json": {
       "model_id": "bebc0c0b0c0040afad09793d56e64d20",
       "version_major": 2,
       "version_minor": 0
      },
      "text/plain": [
       "HBox(children=(HTML(value=''), FloatProgress(value=0.0, max=189726.0), HTML(value='')))"
      ]
     },
     "metadata": {},
     "output_type": "display_data"
    },
    {
     "name": "stdout",
     "output_type": "stream",
     "text": [
      "\n"
     ]
    },
    {
     "data": {
      "application/vnd.jupyter.widget-view+json": {
       "model_id": "2cd450a23c0340ecb9c08f7ebb15260c",
       "version_major": 2,
       "version_minor": 0
      },
      "text/plain": [
       "HBox(children=(HTML(value=''), FloatProgress(value=0.0, max=40.0), HTML(value='')))"
      ]
     },
     "metadata": {},
     "output_type": "display_data"
    },
    {
     "name": "stdout",
     "output_type": "stream",
     "text": [
      "\n"
     ]
    },
    {
     "data": {
      "application/vnd.jupyter.widget-view+json": {
       "model_id": "1ae9a09475884a3382b16b2802ceceb7",
       "version_major": 2,
       "version_minor": 0
      },
      "text/plain": [
       "HBox(children=(HTML(value=''), FloatProgress(value=0.0, max=189726.0), HTML(value='')))"
      ]
     },
     "metadata": {},
     "output_type": "display_data"
    },
    {
     "name": "stdout",
     "output_type": "stream",
     "text": [
      "\n"
     ]
    },
    {
     "data": {
      "application/vnd.jupyter.widget-view+json": {
       "model_id": "2b17440e95d242d7b031829996ddf72c",
       "version_major": 2,
       "version_minor": 0
      },
      "text/plain": [
       "HBox(children=(HTML(value=''), FloatProgress(value=0.0, max=40.0), HTML(value='')))"
      ]
     },
     "metadata": {},
     "output_type": "display_data"
    },
    {
     "name": "stdout",
     "output_type": "stream",
     "text": [
      "\n"
     ]
    },
    {
     "data": {
      "application/vnd.jupyter.widget-view+json": {
       "model_id": "a232321f89dd4e34974cc565969507fc",
       "version_major": 2,
       "version_minor": 0
      },
      "text/plain": [
       "HBox(children=(HTML(value=''), FloatProgress(value=0.0, max=189726.0), HTML(value='')))"
      ]
     },
     "metadata": {},
     "output_type": "display_data"
    },
    {
     "name": "stdout",
     "output_type": "stream",
     "text": [
      "\n"
     ]
    },
    {
     "data": {
      "application/vnd.jupyter.widget-view+json": {
       "model_id": "d0d5f2bc28d24bd0aa19ad0f89edf108",
       "version_major": 2,
       "version_minor": 0
      },
      "text/plain": [
       "HBox(children=(HTML(value=''), FloatProgress(value=0.0, max=40.0), HTML(value='')))"
      ]
     },
     "metadata": {},
     "output_type": "display_data"
    },
    {
     "name": "stdout",
     "output_type": "stream",
     "text": [
      "\n"
     ]
    },
    {
     "data": {
      "application/vnd.jupyter.widget-view+json": {
       "model_id": "dcd45d67548a4deb8083946bddc5df5e",
       "version_major": 2,
       "version_minor": 0
      },
      "text/plain": [
       "HBox(children=(HTML(value=''), FloatProgress(value=0.0, max=189726.0), HTML(value='')))"
      ]
     },
     "metadata": {},
     "output_type": "display_data"
    },
    {
     "name": "stdout",
     "output_type": "stream",
     "text": [
      "\n",
      "Wall time: 53min\n"
     ]
    }
   ],
   "source": [
    "%%time\n",
    "alpha = list(range(20,40,4))\n",
    "regs = list(np.linspace(0.01,1,5,endpoint=True))\n",
    "MAP = []\n",
    "\n",
    "ALPHA = []\n",
    "REGS = []\n",
    "for i in alpha:\n",
    "    for j in regs:\n",
    "        alpha_val = i\n",
    "        data_conf = (item_user * alpha_val).astype('double')\n",
    "        train, test = train_test_split(data_conf,train_percentage=0.8)\n",
    "        model = AlternatingLeastSquares(factors=20,regularization=j,iterations=40)\n",
    "        model.fit(train)\n",
    "        metrics = ranking_metrics_at_k(model, train.T, test.T, K=20)\n",
    "        \n",
    "        MAP.append(metrics['map'])\n",
    "        ALPHA.append(i)\n",
    "        REGS.append(j)\n",
    "        \n",
    "grid = {'alpha':ALPHA,'regularizacion':REGS,'MAP':MAP}\n",
    "\n",
    "grid_search = pd.DataFrame(data=grid)\n",
    "\n",
    "\n"
   ]
  },
  {
   "cell_type": "code",
   "execution_count": 40,
   "metadata": {},
   "outputs": [
    {
     "data": {
      "text/html": [
       "<div>\n",
       "<style scoped>\n",
       "    .dataframe tbody tr th:only-of-type {\n",
       "        vertical-align: middle;\n",
       "    }\n",
       "\n",
       "    .dataframe tbody tr th {\n",
       "        vertical-align: top;\n",
       "    }\n",
       "\n",
       "    .dataframe thead th {\n",
       "        text-align: right;\n",
       "    }\n",
       "</style>\n",
       "<table border=\"1\" class=\"dataframe\">\n",
       "  <thead>\n",
       "    <tr style=\"text-align: right;\">\n",
       "      <th></th>\n",
       "      <th>alpha</th>\n",
       "      <th>regularizacion</th>\n",
       "      <th>MAP</th>\n",
       "    </tr>\n",
       "  </thead>\n",
       "  <tbody>\n",
       "    <tr>\n",
       "      <th>13</th>\n",
       "      <td>28</td>\n",
       "      <td>0.7525</td>\n",
       "      <td>0.047122</td>\n",
       "    </tr>\n",
       "  </tbody>\n",
       "</table>\n",
       "</div>"
      ],
      "text/plain": [
       "    alpha  regularizacion       MAP\n",
       "13     28          0.7525  0.047122"
      ]
     },
     "execution_count": 40,
     "metadata": {},
     "output_type": "execute_result"
    }
   ],
   "source": [
    "grid_search[grid_search['MAP']==grid_search['MAP'].max()]"
   ]
  },
  {
   "cell_type": "markdown",
   "metadata": {},
   "source": [
    "Los hiperparametros definidos son:\n",
    "* `alpha` = 28\n",
    "* `factors`= 20\n",
    "* `regularization` = 0.7525\n",
    "* `iterations` = 40"
   ]
  },
  {
   "cell_type": "code",
   "execution_count": 41,
   "metadata": {},
   "outputs": [
    {
     "data": {
      "application/vnd.jupyter.widget-view+json": {
       "model_id": "8f3f475772414145b8522c4e71cc1cce",
       "version_major": 2,
       "version_minor": 0
      },
      "text/plain": [
       "HBox(children=(HTML(value=''), FloatProgress(value=0.0, max=40.0), HTML(value='')))"
      ]
     },
     "metadata": {},
     "output_type": "display_data"
    },
    {
     "name": "stdout",
     "output_type": "stream",
     "text": [
      "\n"
     ]
    }
   ],
   "source": [
    "alpha_val = 28\n",
    "data_conf = (item_user * alpha_val).astype('double')\n",
    "train, test = train_test_split(data_conf,train_percentage=0.8)\n",
    "model = AlternatingLeastSquares(factors=20,regularization=0.7525,iterations=40)\n",
    "model.fit(train)"
   ]
  },
  {
   "cell_type": "markdown",
   "metadata": {},
   "source": [
    "A continuación, se evaluará la métrica según la cantidad de predicciones."
   ]
  },
  {
   "cell_type": "code",
   "execution_count": 42,
   "metadata": {
    "collapsed": true,
    "jupyter": {
     "outputs_hidden": true
    }
   },
   "outputs": [
    {
     "data": {
      "application/vnd.jupyter.widget-view+json": {
       "model_id": "389b655a3a524644baa04fcbb0bea750",
       "version_major": 2,
       "version_minor": 0
      },
      "text/plain": [
       "HBox(children=(HTML(value=''), FloatProgress(value=0.0, max=189726.0), HTML(value='')))"
      ]
     },
     "metadata": {},
     "output_type": "display_data"
    },
    {
     "name": "stdout",
     "output_type": "stream",
     "text": [
      "\n"
     ]
    },
    {
     "data": {
      "application/vnd.jupyter.widget-view+json": {
       "model_id": "032fe8eda5574d4ca9b84d00a2b2ba1a",
       "version_major": 2,
       "version_minor": 0
      },
      "text/plain": [
       "HBox(children=(HTML(value=''), FloatProgress(value=0.0, max=189726.0), HTML(value='')))"
      ]
     },
     "metadata": {},
     "output_type": "display_data"
    },
    {
     "name": "stdout",
     "output_type": "stream",
     "text": [
      "\n"
     ]
    },
    {
     "data": {
      "application/vnd.jupyter.widget-view+json": {
       "model_id": "51309024e8c340f7a9368e0f3a79ec77",
       "version_major": 2,
       "version_minor": 0
      },
      "text/plain": [
       "HBox(children=(HTML(value=''), FloatProgress(value=0.0, max=189726.0), HTML(value='')))"
      ]
     },
     "metadata": {},
     "output_type": "display_data"
    },
    {
     "name": "stdout",
     "output_type": "stream",
     "text": [
      "\n"
     ]
    },
    {
     "data": {
      "application/vnd.jupyter.widget-view+json": {
       "model_id": "f69a5c272727433a9a13c037aaa17fbb",
       "version_major": 2,
       "version_minor": 0
      },
      "text/plain": [
       "HBox(children=(HTML(value=''), FloatProgress(value=0.0, max=189726.0), HTML(value='')))"
      ]
     },
     "metadata": {},
     "output_type": "display_data"
    },
    {
     "name": "stdout",
     "output_type": "stream",
     "text": [
      "\n"
     ]
    },
    {
     "data": {
      "application/vnd.jupyter.widget-view+json": {
       "model_id": "017f44fb7a1043f9a699ea23a1c01038",
       "version_major": 2,
       "version_minor": 0
      },
      "text/plain": [
       "HBox(children=(HTML(value=''), FloatProgress(value=0.0, max=189726.0), HTML(value='')))"
      ]
     },
     "metadata": {},
     "output_type": "display_data"
    },
    {
     "name": "stdout",
     "output_type": "stream",
     "text": [
      "\n"
     ]
    },
    {
     "data": {
      "application/vnd.jupyter.widget-view+json": {
       "model_id": "d4e8f95de7964daab0e86695aa9c7123",
       "version_major": 2,
       "version_minor": 0
      },
      "text/plain": [
       "HBox(children=(HTML(value=''), FloatProgress(value=0.0, max=189726.0), HTML(value='')))"
      ]
     },
     "metadata": {},
     "output_type": "display_data"
    },
    {
     "name": "stdout",
     "output_type": "stream",
     "text": [
      "\n"
     ]
    },
    {
     "data": {
      "application/vnd.jupyter.widget-view+json": {
       "model_id": "b5d1efb78c4a46c29d78845cfe8bf26e",
       "version_major": 2,
       "version_minor": 0
      },
      "text/plain": [
       "HBox(children=(HTML(value=''), FloatProgress(value=0.0, max=189726.0), HTML(value='')))"
      ]
     },
     "metadata": {},
     "output_type": "display_data"
    },
    {
     "name": "stdout",
     "output_type": "stream",
     "text": [
      "\n"
     ]
    },
    {
     "data": {
      "application/vnd.jupyter.widget-view+json": {
       "model_id": "b6fe7b3c8dc44c8e9f6e90df333dacf4",
       "version_major": 2,
       "version_minor": 0
      },
      "text/plain": [
       "HBox(children=(HTML(value=''), FloatProgress(value=0.0, max=189726.0), HTML(value='')))"
      ]
     },
     "metadata": {},
     "output_type": "display_data"
    },
    {
     "name": "stdout",
     "output_type": "stream",
     "text": [
      "\n"
     ]
    },
    {
     "data": {
      "application/vnd.jupyter.widget-view+json": {
       "model_id": "156feb2f026a4300a7dd98f318637b02",
       "version_major": 2,
       "version_minor": 0
      },
      "text/plain": [
       "HBox(children=(HTML(value=''), FloatProgress(value=0.0, max=189726.0), HTML(value='')))"
      ]
     },
     "metadata": {},
     "output_type": "display_data"
    },
    {
     "name": "stdout",
     "output_type": "stream",
     "text": [
      "\n"
     ]
    },
    {
     "data": {
      "application/vnd.jupyter.widget-view+json": {
       "model_id": "b6e45c532ce1411d8389ebf22216a4c5",
       "version_major": 2,
       "version_minor": 0
      },
      "text/plain": [
       "HBox(children=(HTML(value=''), FloatProgress(value=0.0, max=189726.0), HTML(value='')))"
      ]
     },
     "metadata": {},
     "output_type": "display_data"
    },
    {
     "name": "stdout",
     "output_type": "stream",
     "text": [
      "\n"
     ]
    },
    {
     "data": {
      "application/vnd.jupyter.widget-view+json": {
       "model_id": "b846463ce7a140008fec47b8360d293d",
       "version_major": 2,
       "version_minor": 0
      },
      "text/plain": [
       "HBox(children=(HTML(value=''), FloatProgress(value=0.0, max=189726.0), HTML(value='')))"
      ]
     },
     "metadata": {},
     "output_type": "display_data"
    },
    {
     "name": "stdout",
     "output_type": "stream",
     "text": [
      "\n"
     ]
    },
    {
     "data": {
      "application/vnd.jupyter.widget-view+json": {
       "model_id": "8bf0613db2b34fb5ad38617ff31de232",
       "version_major": 2,
       "version_minor": 0
      },
      "text/plain": [
       "HBox(children=(HTML(value=''), FloatProgress(value=0.0, max=189726.0), HTML(value='')))"
      ]
     },
     "metadata": {},
     "output_type": "display_data"
    },
    {
     "name": "stdout",
     "output_type": "stream",
     "text": [
      "\n"
     ]
    },
    {
     "data": {
      "application/vnd.jupyter.widget-view+json": {
       "model_id": "d9c290df85704476b73cb0bf4980fb49",
       "version_major": 2,
       "version_minor": 0
      },
      "text/plain": [
       "HBox(children=(HTML(value=''), FloatProgress(value=0.0, max=189726.0), HTML(value='')))"
      ]
     },
     "metadata": {},
     "output_type": "display_data"
    },
    {
     "name": "stdout",
     "output_type": "stream",
     "text": [
      "\n"
     ]
    },
    {
     "data": {
      "application/vnd.jupyter.widget-view+json": {
       "model_id": "2a47e9e4676447599e07ae880f0a023e",
       "version_major": 2,
       "version_minor": 0
      },
      "text/plain": [
       "HBox(children=(HTML(value=''), FloatProgress(value=0.0, max=189726.0), HTML(value='')))"
      ]
     },
     "metadata": {},
     "output_type": "display_data"
    },
    {
     "name": "stdout",
     "output_type": "stream",
     "text": [
      "\n"
     ]
    },
    {
     "data": {
      "application/vnd.jupyter.widget-view+json": {
       "model_id": "e97e9c1b87a44984be654c7f2f6b3022",
       "version_major": 2,
       "version_minor": 0
      },
      "text/plain": [
       "HBox(children=(HTML(value=''), FloatProgress(value=0.0, max=189726.0), HTML(value='')))"
      ]
     },
     "metadata": {},
     "output_type": "display_data"
    },
    {
     "name": "stdout",
     "output_type": "stream",
     "text": [
      "\n"
     ]
    },
    {
     "data": {
      "application/vnd.jupyter.widget-view+json": {
       "model_id": "3d7c92f2652c401c994d4e37ff5f3403",
       "version_major": 2,
       "version_minor": 0
      },
      "text/plain": [
       "HBox(children=(HTML(value=''), FloatProgress(value=0.0, max=189726.0), HTML(value='')))"
      ]
     },
     "metadata": {},
     "output_type": "display_data"
    },
    {
     "name": "stdout",
     "output_type": "stream",
     "text": [
      "\n"
     ]
    },
    {
     "data": {
      "application/vnd.jupyter.widget-view+json": {
       "model_id": "28eb967562a6427fab5e20b40763b6e6",
       "version_major": 2,
       "version_minor": 0
      },
      "text/plain": [
       "HBox(children=(HTML(value=''), FloatProgress(value=0.0, max=189726.0), HTML(value='')))"
      ]
     },
     "metadata": {},
     "output_type": "display_data"
    },
    {
     "name": "stdout",
     "output_type": "stream",
     "text": [
      "\n"
     ]
    },
    {
     "data": {
      "application/vnd.jupyter.widget-view+json": {
       "model_id": "b06199592ac84e3890b8782d094c834e",
       "version_major": 2,
       "version_minor": 0
      },
      "text/plain": [
       "HBox(children=(HTML(value=''), FloatProgress(value=0.0, max=189726.0), HTML(value='')))"
      ]
     },
     "metadata": {},
     "output_type": "display_data"
    },
    {
     "name": "stdout",
     "output_type": "stream",
     "text": [
      "\n"
     ]
    },
    {
     "data": {
      "application/vnd.jupyter.widget-view+json": {
       "model_id": "2b5672212a864ffe89df0bcc13d9d981",
       "version_major": 2,
       "version_minor": 0
      },
      "text/plain": [
       "HBox(children=(HTML(value=''), FloatProgress(value=0.0, max=189726.0), HTML(value='')))"
      ]
     },
     "metadata": {},
     "output_type": "display_data"
    },
    {
     "name": "stdout",
     "output_type": "stream",
     "text": [
      "\n"
     ]
    },
    {
     "data": {
      "application/vnd.jupyter.widget-view+json": {
       "model_id": "4540f7d65e2f4c27b19c12e8e43a3d35",
       "version_major": 2,
       "version_minor": 0
      },
      "text/plain": [
       "HBox(children=(HTML(value=''), FloatProgress(value=0.0, max=189726.0), HTML(value='')))"
      ]
     },
     "metadata": {},
     "output_type": "display_data"
    },
    {
     "name": "stdout",
     "output_type": "stream",
     "text": [
      "\n"
     ]
    },
    {
     "data": {
      "application/vnd.jupyter.widget-view+json": {
       "model_id": "ec9b070675254cf8bd5d8d995f2b24fa",
       "version_major": 2,
       "version_minor": 0
      },
      "text/plain": [
       "HBox(children=(HTML(value=''), FloatProgress(value=0.0, max=189726.0), HTML(value='')))"
      ]
     },
     "metadata": {},
     "output_type": "display_data"
    },
    {
     "name": "stdout",
     "output_type": "stream",
     "text": [
      "\n"
     ]
    },
    {
     "data": {
      "application/vnd.jupyter.widget-view+json": {
       "model_id": "4d9708093ff547249a9f4e1e877bbf6a",
       "version_major": 2,
       "version_minor": 0
      },
      "text/plain": [
       "HBox(children=(HTML(value=''), FloatProgress(value=0.0, max=189726.0), HTML(value='')))"
      ]
     },
     "metadata": {},
     "output_type": "display_data"
    },
    {
     "name": "stdout",
     "output_type": "stream",
     "text": [
      "\n"
     ]
    },
    {
     "data": {
      "application/vnd.jupyter.widget-view+json": {
       "model_id": "8390103331a847de949998091a2a4fc3",
       "version_major": 2,
       "version_minor": 0
      },
      "text/plain": [
       "HBox(children=(HTML(value=''), FloatProgress(value=0.0, max=189726.0), HTML(value='')))"
      ]
     },
     "metadata": {},
     "output_type": "display_data"
    },
    {
     "name": "stdout",
     "output_type": "stream",
     "text": [
      "\n"
     ]
    },
    {
     "data": {
      "application/vnd.jupyter.widget-view+json": {
       "model_id": "c7b8ac9c9d644d0e9b72299b98d16861",
       "version_major": 2,
       "version_minor": 0
      },
      "text/plain": [
       "HBox(children=(HTML(value=''), FloatProgress(value=0.0, max=189726.0), HTML(value='')))"
      ]
     },
     "metadata": {},
     "output_type": "display_data"
    },
    {
     "name": "stdout",
     "output_type": "stream",
     "text": [
      "\n"
     ]
    },
    {
     "data": {
      "application/vnd.jupyter.widget-view+json": {
       "model_id": "97d388c8264249e6b12567ec22a1ac4a",
       "version_major": 2,
       "version_minor": 0
      },
      "text/plain": [
       "HBox(children=(HTML(value=''), FloatProgress(value=0.0, max=189726.0), HTML(value='')))"
      ]
     },
     "metadata": {},
     "output_type": "display_data"
    },
    {
     "name": "stdout",
     "output_type": "stream",
     "text": [
      "\n"
     ]
    },
    {
     "data": {
      "application/vnd.jupyter.widget-view+json": {
       "model_id": "a1133748035841d99bee3d6d9b9f91bf",
       "version_major": 2,
       "version_minor": 0
      },
      "text/plain": [
       "HBox(children=(HTML(value=''), FloatProgress(value=0.0, max=189726.0), HTML(value='')))"
      ]
     },
     "metadata": {},
     "output_type": "display_data"
    },
    {
     "name": "stdout",
     "output_type": "stream",
     "text": [
      "\n"
     ]
    },
    {
     "data": {
      "application/vnd.jupyter.widget-view+json": {
       "model_id": "654b7eeb7331478eb616854879abd94d",
       "version_major": 2,
       "version_minor": 0
      },
      "text/plain": [
       "HBox(children=(HTML(value=''), FloatProgress(value=0.0, max=189726.0), HTML(value='')))"
      ]
     },
     "metadata": {},
     "output_type": "display_data"
    },
    {
     "name": "stdout",
     "output_type": "stream",
     "text": [
      "\n"
     ]
    },
    {
     "data": {
      "application/vnd.jupyter.widget-view+json": {
       "model_id": "55a34a1376a14f849206973388185925",
       "version_major": 2,
       "version_minor": 0
      },
      "text/plain": [
       "HBox(children=(HTML(value=''), FloatProgress(value=0.0, max=189726.0), HTML(value='')))"
      ]
     },
     "metadata": {},
     "output_type": "display_data"
    },
    {
     "name": "stdout",
     "output_type": "stream",
     "text": [
      "\n"
     ]
    },
    {
     "data": {
      "application/vnd.jupyter.widget-view+json": {
       "model_id": "fd33d4c13bc1482abdb629d522595e5a",
       "version_major": 2,
       "version_minor": 0
      },
      "text/plain": [
       "HBox(children=(HTML(value=''), FloatProgress(value=0.0, max=189726.0), HTML(value='')))"
      ]
     },
     "metadata": {},
     "output_type": "display_data"
    },
    {
     "name": "stdout",
     "output_type": "stream",
     "text": [
      "\n"
     ]
    },
    {
     "data": {
      "application/vnd.jupyter.widget-view+json": {
       "model_id": "3035cdd10d504fb9ac23754e80606eeb",
       "version_major": 2,
       "version_minor": 0
      },
      "text/plain": [
       "HBox(children=(HTML(value=''), FloatProgress(value=0.0, max=189726.0), HTML(value='')))"
      ]
     },
     "metadata": {},
     "output_type": "display_data"
    },
    {
     "name": "stdout",
     "output_type": "stream",
     "text": [
      "\n",
      "Wall time: 25min 54s\n"
     ]
    }
   ],
   "source": [
    "%%time\n",
    "k = list(range(5,305,20))\n",
    "k_map = []\n",
    "k_map_bench = []\n",
    "\n",
    "for i in k:\n",
    "    metrics = ranking_metrics_at_k(model, train.T, test.T, K=i)\n",
    "    metrics_bench = ranking_metrics_at_k(model_Benchmark, train.T, test.T, K=i)\n",
    "    k_map.append(metrics['map'])\n",
    "    k_map_bench.append(metrics_bench['map'])\n",
    "    "
   ]
  },
  {
   "cell_type": "code",
   "execution_count": 43,
   "metadata": {},
   "outputs": [
    {
     "data": {
      "image/png": "[encoded data removed]",
      "text/plain": [
       "<Figure size 720x432 with 1 Axes>"
      ]
     },
     "metadata": {},
     "output_type": "display_data"
    }
   ],
   "source": [
    "fig = plt.figure(figsize = (10,6))\n",
    "\n",
    "plt.plot(k,k_map,marker='^',markersize=10)\n",
    "plt.plot(k,k_map_bench,marker='^',markersize=10)\n",
    "plt.xlabel('Items testeados',fontsize=16)\n",
    "plt.ylabel('MAP',fontsize=16)\n",
    "plt.title('MAP segun variacion de regularization',fontsize=20)\n",
    "plt.legend(['Model','Benchmark'])\n",
    "\n",
    "plt.show()"
   ]
  },
  {
   "cell_type": "markdown",
   "metadata": {},
   "source": [
    "Como se observa en el grafico a medida que se incrementa el número de items testeados la métrica aumenta progresivamente, tanto para el modelo como par el modelo de benchmark.\n",
    "***\n",
    "### 6. Predicciones a un usuario aleatorio ###\n",
    "\n",
    "A partir de un usuario aleatorio y del modelo entrenado, se buscan las recomendaciones, la similitud entre items y usuarios. A partir del top recomendaciones y la similitud de los items, se puede esperar que los items más similares estén en la lista de items del usuario. Al mismo tiempo se puede esperar que los usuarios más similares compartan ciertos items."
   ]
  },
  {
   "cell_type": "code",
   "execution_count": 33,
   "metadata": {},
   "outputs": [],
   "source": [
    "user = 93214\n",
    "user_name = dr['username'][dr.userid==user].to_list()[0]\n",
    "list_games = dr['title'][dr.userid==user].to_list()\n",
    "list_games.sort()\n",
    "list_games_codes = dr['productid'][dr.userid==user].to_list()"
   ]
  },
  {
   "cell_type": "code",
   "execution_count": 34,
   "metadata": {},
   "outputs": [
    {
     "name": "stdout",
     "output_type": "stream",
     "text": [
      "Usuario: Omae wa mou shindeiru\n",
      "N° de juegos:  74\n",
      "Juegos:  ['Ace of Spades: Battle Builder', 'AdVenture Capitalist', 'Alien Swarm: Reactive Drop', 'Alien: Isolation', 'Amnesia: The Dark Descent', \"Assassin's Creed 2 Deluxe Edition\", 'Azure Striker Gunvolt', 'BattleBlock Theater®', 'Blood and Bacon', 'Brawlhalla', 'Call of Juarez® Gunslinger', 'Chivalry: Medieval Warfare', 'Clicker Heroes', 'Counter-Strike: Source', 'Crypt of the NecroDancer', 'DC Universe™ Online', 'DRAGON BALL XENOVERSE', 'Dead Space', 'Dead Space™ 2', 'Deceit', 'Defiance', 'Dino D-Day', 'Disney Princess: My Fairytale Adventure', 'Dungeon Defenders', 'Dungeon Defenders II', 'Dying Light', 'Fallout 4', \"Five Nights at Freddy's 2\", 'Grand Theft Auto: San Andreas', 'H1Z1', 'Half-Life 2', 'Hero Siege', 'Hitman: Absolution™', 'Hollow Knight', 'Hyperdimension Neptunia Re;Birth1 / 超次次元ゲイム ネプテューヌRe;Birth1 / 超次次元遊戲戰機少女重生1', 'Insanity Clicker', 'L.A. Noire', 'LEGO® Star Wars™ - The Complete Saga', 'LEGO® The Hobbit™', 'Middle-earth™: Shadow of Mordor™', 'Minion Masters', 'Mortal Kombat X', 'NARUTO SHIPPUDEN: Ultimate Ninja STORM 4', 'No More Room in Hell', 'ORION: Prelude', 'Orcs Must Die! Unchained', 'Paladins®', 'Project Zomboid', 'RESIDENT EVIL 7 biohazard / BIOHAZARD 7 resident evil', 'Reign Of Kings', 'Resident Evil / biohazard HD REMASTER', 'Risk of Rain', 'Rivals of Aether', 'Rust', 'SNOW', 'Saints Row IV', 'Saints Row: The Third', 'Scribblenauts Unlimited', 'Sniper Elite: Nazi Zombie Army 2', 'State of Decay: YOSE', 'Team Fortress 2', 'The Binding of Isaac', 'The Binding of Isaac: Rebirth', 'The Darkness II', 'Thief', \"Tom Clancy's Ghost Recon: Future Soldier™\", 'Tomb Raider: Underworld', 'Town of Salem', 'Tree of Savior (English Ver.)', 'Tribes: Ascend', 'Trove', 'Undertale', 'Warframe', 'Woodle Tree Adventures']\n"
     ]
    }
   ],
   "source": [
    "print('Usuario:',user_name)\n",
    "print('N° de juegos: ', len(list_games))\n",
    "print('Juegos: ',list_games)"
   ]
  },
  {
   "cell_type": "code",
   "execution_count": 35,
   "metadata": {},
   "outputs": [],
   "source": [
    "recomendacion=model.recommend(userid=user, user_items=user_item, N=20, filter_items=list_games_codes)"
   ]
  },
  {
   "cell_type": "code",
   "execution_count": 36,
   "metadata": {},
   "outputs": [
    {
     "name": "stdout",
     "output_type": "stream",
     "text": [
      "Recomendaciones para el usuario: \n",
      "\n",
      "Contagion                                                1.577044\n",
      "Starbound                                                1.531107\n",
      "Call of Duty®: Modern Warfare® 2                         1.347129\n",
      "Borderlands 2                                            1.338937\n",
      "Surgeon Simulator                                        1.296009\n",
      "Who's Your Daddy                                         1.277303\n",
      "Nether: Resurrected                                      1.264806\n",
      "Warface                                                  1.254567\n",
      "Battlefield: Bad Company™ 2                              1.235928\n",
      "Call of Duty® 4: Modern Warfare®                         1.216237\n",
      "Resident Evil Revelations 2 / Biohazard Revelations 2    1.208945\n",
      "Friday the 13th: The Game                                1.186933\n",
      "Sniper Elite V2                                          1.185295\n",
      "Just Cause 2: Multiplayer Mod                            1.173524\n",
      "Batman™: Arkham Knight                                   1.169342\n",
      "Bastion                                                  1.151130\n",
      "Loadout                                                  1.133772\n",
      "Call of Duty®: Black Ops                                 1.109175\n",
      "Skullgirls                                               1.107701\n",
      "Resident Evil 6 / Biohazard 6                            1.093709\n",
      "dtype: float64\n"
     ]
    }
   ],
   "source": [
    "games = []\n",
    "scores = []\n",
    "print('Recomendaciones para el usuario: \\n')\n",
    "for i in range(len(recomendacion)):\n",
    "    game = dr['title'][dr.productid==recomendacion[i][0]].to_list()[0]\n",
    "    score = recomendacion[i][1]\n",
    "    \n",
    "    games.append(game)\n",
    "    scores.append(score)\n",
    "    \n",
    "recom = pd.Series(scores,games)\n",
    "print(recom)"
   ]
  },
  {
   "cell_type": "markdown",
   "metadata": {},
   "source": [
    "Se busca los items similares a la recomendación número 1."
   ]
  },
  {
   "cell_type": "code",
   "execution_count": 37,
   "metadata": {},
   "outputs": [],
   "source": [
    "top_item = recomendacion[0][0]\n",
    "\n",
    "similar = model.similar_items(itemid=top_item,N=15)"
   ]
  },
  {
   "cell_type": "code",
   "execution_count": 38,
   "metadata": {},
   "outputs": [
    {
     "name": "stdout",
     "output_type": "stream",
     "text": [
      "Juegos similares a la recomendación N°1: \n",
      "\n",
      "Contagion                                                 1.000000\n",
      "Zombie Panic! Source                                      0.473897\n",
      "Nether: Resurrected                                       0.468858\n",
      "Damned                                                    0.460050\n",
      "Tom Clancy's Ghost Recon: Future Soldier™                 0.457842\n",
      "Ylands                                                    0.448819\n",
      "Dead Rising® 2                                            0.442652\n",
      "Survival: Postapocalypse Now                              0.430685\n",
      "Stigmat                                                   0.428397\n",
      "Stationeers                                               0.427453\n",
      "Dead Sky                                                  0.425570\n",
      "Zombie Grinder                                            0.424782\n",
      "Linea, the Game                                           0.423572\n",
      "Estranged: Act I                                          0.422660\n",
      "Magic: The Gathering - Duels of the Planeswalkers 2012    0.422315\n",
      "dtype: float64\n"
     ]
    }
   ],
   "source": [
    "games = []\n",
    "scores = []\n",
    "print('Juegos similares a la recomendación N°1: \\n')\n",
    "for i in range(len(similar)):\n",
    "    game = dr['title'][dr.productid==similar[i][0]].to_list()[0]\n",
    "    score = similar[i][1]\n",
    "    \n",
    "    games.append(game)\n",
    "    scores.append(score)\n",
    "    \n",
    "recom = pd.Series(scores,games)\n",
    "print(recom)"
   ]
  },
  {
   "cell_type": "code",
   "execution_count": 39,
   "metadata": {},
   "outputs": [
    {
     "name": "stdout",
     "output_type": "stream",
     "text": [
      "Número de juegos similares a la recomendación N°1 que tiene el usuario:  1\n",
      "Juegos:  [\"Tom Clancy's Ghost Recon: Future Soldier™\"]\n"
     ]
    }
   ],
   "source": [
    "cont = 0\n",
    "sim_games=[]\n",
    "for i in games:\n",
    "    if i in list_games:\n",
    "        cont+=1\n",
    "        sim_games.append(i)\n",
    "        \n",
    "print('Número de juegos similares a la recomendación N°1 que tiene el usuario: ',cont)\n",
    "print('Juegos: ',sim_games)"
   ]
  },
  {
   "cell_type": "markdown",
   "metadata": {},
   "source": [
    "Como se esperaba los items con mayor similitud a la primera recomendación se encuentran en la lista del usuario."
   ]
  },
  {
   "cell_type": "code",
   "execution_count": 40,
   "metadata": {},
   "outputs": [
    {
     "name": "stdout",
     "output_type": "stream",
     "text": [
      "Usuarios similares a  Omae wa mou shindeiru : \n",
      "\n",
      "Omae wa mou shindeiru    1.000000\n",
      "Anonymous                0.663655\n",
      "Apple                    0.641218\n",
      "Logan Paul               0.640991\n",
      "LilAutismKid             0.640245\n",
      "❤ Jack ❤                 0.631735\n",
      "Kappa                    0.626433\n",
      "Turtle                   0.625896\n",
      "SANIC                    0.623513\n",
      "Lemur                    0.621569\n",
      "dtype: float64\n"
     ]
    }
   ],
   "source": [
    "sim_user = model.similar_users(userid=user,N=10)\n",
    "\n",
    "users = []\n",
    "scores = []\n",
    "print('Usuarios similares a ',user_name,': \\n')\n",
    "for i in range(len(sim_user)):\n",
    "    use = dr['username'][dr.userid==sim_user[i][0]].to_list()[0]\n",
    "    score = sim_user[i][1]\n",
    "    \n",
    "    users.append(use)\n",
    "    scores.append(score)\n",
    "    \n",
    "recom = pd.Series(scores,users)\n",
    "print(recom)"
   ]
  },
  {
   "cell_type": "code",
   "execution_count": 41,
   "metadata": {},
   "outputs": [
    {
     "name": "stdout",
     "output_type": "stream",
     "text": [
      "Número de juegos compartidos con el usuario mas similar:  31\n",
      "Juegos:  ['The Binding of Isaac', 'Rust', 'Dungeon Defenders', \"Five Nights at Freddy's 2\", 'Thief', 'Saints Row: The Third', 'Team Fortress 2', 'Half-Life 2', 'No More Room in Hell', 'Project Zomboid', 'Trove', 'Chivalry: Medieval Warfare', 'Undertale', 'Mortal Kombat X', 'Warframe', 'Call of Juarez® Gunslinger', 'Paladins®', 'H1Z1', 'Clicker Heroes', 'Dying Light', 'BattleBlock Theater®', 'Counter-Strike: Source', 'Fallout 4', 'Alien: Isolation', 'Grand Theft Auto: San Andreas', 'Dungeon Defenders II', 'Brawlhalla', 'Risk of Rain', 'Hero Siege', 'Ace of Spades: Battle Builder', 'Rivals of Aether']\n"
     ]
    }
   ],
   "source": [
    "top_user=sim_user[1][0]\n",
    "top_user_name = dr['username'][dr.userid==top_user].to_list()[0]\n",
    "top_list_games = dr['title'][dr.userid==top_user].to_list()\n",
    "\n",
    "\n",
    "cont = 0\n",
    "sim_games=[]\n",
    "\n",
    "for i in top_list_games:\n",
    "    if i in list_games:\n",
    "        cont+=1\n",
    "        sim_games.append(i)\n",
    "        \n",
    "print('Número de juegos compartidos con el usuario mas similar: ',cont)\n",
    "print('Juegos: ',sim_games)"
   ]
  },
  {
   "cell_type": "markdown",
   "metadata": {},
   "source": [
    "La similitud de usuarios se puede observar en la gran cantidad de items que comparten.\n",
    "\n",
    "***\n",
    "### 7. Conclusión ###\n",
    "\n",
    "Luego de una profunda exploración de datos y utilizando la librería Implicit se logró obtener un modelo de recomendación para la base de datos de Steam. Si bien se llegó al objetivo del proyecto hay varias cuestiones que podrían mejorar este modelo. El usuario seleccionado para el ejemplo tiene una gran cantidad de items, los buenos resultados del modelo pueden ser circunstanciales debido a la cantidad de items del usuario. Un usuario con menor cantidad de items puede tener resultados menos precisos. \n",
    "\n",
    "* Consideraciones más estrictas en los criterios que se definieron los filtros para la base de datos. Por ejemplo, considerar que se necesitan más de 5 horas para considerar que el usuario puede calificar el juego. Esto daría probablemente una base de datos más completa y eso ayudaría al modelo. \n",
    "\n",
    "* Filtrar los juegos según sus tags y realizar un modelo para cada categoría puede tener mejor precisión al momento de recomendar.\n",
    "\n",
    "* Hay una columna que no se utilizó en el modelo que es `sentiment` en la base de datos `data_games`, estos datos son una clasificación que nos da Steam obtenido de las reviews de los usuarios, esta columna podría servir al modelo para facilitar la recomendación.\n",
    "\n",
    "* Un tema que se dijo anteriormente es la aplicación de procesamiento de lenguaje natural en la columna de `text` de `data_reviews` para poder calificar verdaderamente la opinión del usuario al juego.\n"
   ]
  },
  {
   "cell_type": "code",
   "execution_count": null,
   "metadata": {},
   "outputs": [],
   "source": []
  }
 ],
 "metadata": {
  "colab": {
   "collapsed_sections": [],
   "name": "DS_Proyecto_03_SR.ipynb",
   "provenance": []
  },
  "kernelspec": {
   "display_name": "Python 3",
   "language": "python",
   "name": "python3"
  },
  "language_info": {
   "codemirror_mode": {
    "name": "ipython",
    "version": 3
   },
   "file_extension": ".py",
   "mimetype": "text/x-python",
   "name": "python",
   "nbconvert_exporter": "python",
   "pygments_lexer": "ipython3",
   "version": "3.8.3"
  }
 },
 "nbformat": 4,
 "nbformat_minor": 4
}
